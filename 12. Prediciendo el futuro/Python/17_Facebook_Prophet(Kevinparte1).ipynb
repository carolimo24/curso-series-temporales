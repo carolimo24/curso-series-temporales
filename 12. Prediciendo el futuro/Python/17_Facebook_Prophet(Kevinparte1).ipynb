{
  "nbformat": 4,
  "nbformat_minor": 0,
  "metadata": {
    "kernelspec": {
      "display_name": "Python 3",
      "language": "python",
      "name": "python3"
    },
    "language_info": {
      "codemirror_mode": {
        "name": "ipython",
        "version": 3
      },
      "file_extension": ".py",
      "mimetype": "text/x-python",
      "name": "python",
      "nbconvert_exporter": "python",
      "pygments_lexer": "ipython3",
      "version": "3.6.7"
    },
    "colab": {
      "name": "17_Facebook_Prophet.ipynb",
      "provenance": []
    }
  },
  "cells": [
    {
      "cell_type": "markdown",
      "metadata": {
        "id": "WVzF4wSY1FMc"
      },
      "source": [
        "## Load Libraries"
      ]
    },
    {
      "cell_type": "code",
      "metadata": {
        "colab": {
          "base_uri": "https://localhost:8080/"
        },
        "id": "w90aGEcDfJOQ",
        "outputId": "eb2b767e-7fc3-4450-9380-ce88c838b8fa"
      },
      "source": [
        "from google.colab import drive\n",
        "drive.mount('/content/drive')"
      ],
      "execution_count": 31,
      "outputs": [
        {
          "output_type": "stream",
          "name": "stdout",
          "text": [
            "Drive already mounted at /content/drive; to attempt to forcibly remount, call drive.mount(\"/content/drive\", force_remount=True).\n"
          ]
        }
      ]
    },
    {
      "cell_type": "code",
      "metadata": {
        "id": "keIw3oXP1FMd"
      },
      "source": [
        "import pandas as pd\n",
        "from fbprophet import Prophet"
      ],
      "execution_count": 32,
      "outputs": []
    },
    {
      "cell_type": "markdown",
      "metadata": {
        "id": "jgbHZr6X1FMg"
      },
      "source": [
        "## Load Data\n",
        "Datos de ventas de bebidas alcoholicas. Datos mensuales y son las ventas.\n",
        "\n"
      ]
    },
    {
      "cell_type": "code",
      "metadata": {
        "id": "3bRgVkIL1FMh"
      },
      "source": [
        "df = pd.read_csv('/content/drive/MyDrive/Python-Prophet-K/Libro1111.csv')"
      ],
      "execution_count": 33,
      "outputs": []
    },
    {
      "cell_type": "code",
      "metadata": {
        "id": "yxT9P1Bu1FMj",
        "colab": {
          "base_uri": "https://localhost:8080/",
          "height": 204
        },
        "outputId": "fc82630c-568c-42ca-84d8-926bd8449f28"
      },
      "source": [
        "df.head()"
      ],
      "execution_count": 34,
      "outputs": [
        {
          "output_type": "execute_result",
          "data": {
            "text/html": [
              "<div>\n",
              "<style scoped>\n",
              "    .dataframe tbody tr th:only-of-type {\n",
              "        vertical-align: middle;\n",
              "    }\n",
              "\n",
              "    .dataframe tbody tr th {\n",
              "        vertical-align: top;\n",
              "    }\n",
              "\n",
              "    .dataframe thead th {\n",
              "        text-align: right;\n",
              "    }\n",
              "</style>\n",
              "<table border=\"1\" class=\"dataframe\">\n",
              "  <thead>\n",
              "    <tr style=\"text-align: right;\">\n",
              "      <th></th>\n",
              "      <th>tiempo</th>\n",
              "      <th>Tareas Realizadas</th>\n",
              "      <th>Suscriptores</th>\n",
              "      <th>dummy</th>\n",
              "    </tr>\n",
              "  </thead>\n",
              "  <tbody>\n",
              "    <tr>\n",
              "      <th>0</th>\n",
              "      <td>05/07/2021</td>\n",
              "      <td>2</td>\n",
              "      <td>3</td>\n",
              "      <td>1</td>\n",
              "    </tr>\n",
              "    <tr>\n",
              "      <th>1</th>\n",
              "      <td>06/07/2021</td>\n",
              "      <td>6</td>\n",
              "      <td>3</td>\n",
              "      <td>1</td>\n",
              "    </tr>\n",
              "    <tr>\n",
              "      <th>2</th>\n",
              "      <td>07/07/2021</td>\n",
              "      <td>13</td>\n",
              "      <td>3</td>\n",
              "      <td>1</td>\n",
              "    </tr>\n",
              "    <tr>\n",
              "      <th>3</th>\n",
              "      <td>08/07/2021</td>\n",
              "      <td>9</td>\n",
              "      <td>3</td>\n",
              "      <td>1</td>\n",
              "    </tr>\n",
              "    <tr>\n",
              "      <th>4</th>\n",
              "      <td>09/07/2021</td>\n",
              "      <td>16</td>\n",
              "      <td>3</td>\n",
              "      <td>1</td>\n",
              "    </tr>\n",
              "  </tbody>\n",
              "</table>\n",
              "</div>"
            ],
            "text/plain": [
              "      tiempo   Tareas Realizadas  Suscriptores  dummy\n",
              "0  05/07/2021                  2             3      1\n",
              "1  06/07/2021                  6             3      1\n",
              "2  07/07/2021                 13             3      1\n",
              "3  08/07/2021                  9             3      1\n",
              "4  09/07/2021                 16             3      1"
            ]
          },
          "metadata": {},
          "execution_count": 34
        }
      ]
    },
    {
      "cell_type": "markdown",
      "metadata": {
        "id": "ocMQ35vp1FMo"
      },
      "source": [
        "### Format the Data\n",
        "Para asgurarnos que los datos sean fechas, esta libreria requiere que los datos esten de una forma especifica, toca llamarlo dfcolumns =['ds', 'y'] se debe cambiar el nombre de las columnas, por defecto prophet utiliza una frecuencia diaria. \n",
        "pd.to_datetime: Se transofrman los datos en tipo fecha."
      ]
    },
    {
      "cell_type": "code",
      "metadata": {
        "id": "W8GyGJRy1FMp"
      },
      "source": [
        "df.columns = ['ds','y', 'suscriptores', 'dummy']"
      ],
      "execution_count": 36,
      "outputs": []
    },
    {
      "cell_type": "code",
      "metadata": {
        "id": "xl1gFcpb1FMt"
      },
      "source": [
        "df['ds'] = pd.to_datetime(df['ds'])"
      ],
      "execution_count": 37,
      "outputs": []
    },
    {
      "cell_type": "markdown",
      "metadata": {
        "id": "gAk5UvhA1FMw"
      },
      "source": [
        "## Create and Fit Model\n"
      ]
    },
    {
      "cell_type": "code",
      "metadata": {
        "id": "B-YRR9FI1FMw",
        "colab": {
          "base_uri": "https://localhost:8080/"
        },
        "outputId": "53e60048-a1c1-45d7-cfaf-aed1b8971b80"
      },
      "source": [
        "m = Prophet()\n",
        "m.fit(df)"
      ],
      "execution_count": 38,
      "outputs": [
        {
          "output_type": "stream",
          "name": "stderr",
          "text": [
            "INFO:fbprophet:Disabling yearly seasonality. Run prophet with yearly_seasonality=True to override this.\n",
            "INFO:fbprophet:Disabling daily seasonality. Run prophet with daily_seasonality=True to override this.\n"
          ]
        },
        {
          "output_type": "execute_result",
          "data": {
            "text/plain": [
              "<fbprophet.forecaster.Prophet at 0x7f5dfa1711d0>"
            ]
          },
          "metadata": {},
          "execution_count": 38
        }
      ]
    },
    {
      "cell_type": "markdown",
      "metadata": {
        "id": "5-UgbZkP1FM0"
      },
      "source": [
        "## Pronósticos del futuro\n",
        "\n",
        "### Paso 1: Crear el dataframe donde colocaremos los resultados\n",
        "m.make_future_dataframe(periods=24,freq = 'MS')\n",
        "este método que se llama make_Future_dataframe sobre nuestro modelo m, luego la cantidad de elementos que queremos pronósticar en el futuro, como es mensual colocamos 24, luego especificamos la frecuencia que estamos considerando, porque por defecto estan diario. Aca se cambia a mensual.\n"
      ]
    },
    {
      "cell_type": "code",
      "metadata": {
        "id": "cQ2X2Fo91FM1"
      },
      "source": [
        "future = m.make_future_dataframe(periods=24)"
      ],
      "execution_count": 39,
      "outputs": []
    },
    {
      "cell_type": "code",
      "metadata": {
        "id": "AgoECzEP3-iA",
        "colab": {
          "base_uri": "https://localhost:8080/",
          "height": 204
        },
        "outputId": "24862c38-11d0-4056-f009-8e277fdbde9b"
      },
      "source": [
        "future.head()"
      ],
      "execution_count": 40,
      "outputs": [
        {
          "output_type": "execute_result",
          "data": {
            "text/html": [
              "<div>\n",
              "<style scoped>\n",
              "    .dataframe tbody tr th:only-of-type {\n",
              "        vertical-align: middle;\n",
              "    }\n",
              "\n",
              "    .dataframe tbody tr th {\n",
              "        vertical-align: top;\n",
              "    }\n",
              "\n",
              "    .dataframe thead th {\n",
              "        text-align: right;\n",
              "    }\n",
              "</style>\n",
              "<table border=\"1\" class=\"dataframe\">\n",
              "  <thead>\n",
              "    <tr style=\"text-align: right;\">\n",
              "      <th></th>\n",
              "      <th>ds</th>\n",
              "    </tr>\n",
              "  </thead>\n",
              "  <tbody>\n",
              "    <tr>\n",
              "      <th>0</th>\n",
              "      <td>2021-01-09</td>\n",
              "    </tr>\n",
              "    <tr>\n",
              "      <th>1</th>\n",
              "      <td>2021-02-08</td>\n",
              "    </tr>\n",
              "    <tr>\n",
              "      <th>2</th>\n",
              "      <td>2021-02-09</td>\n",
              "    </tr>\n",
              "    <tr>\n",
              "      <th>3</th>\n",
              "      <td>2021-03-08</td>\n",
              "    </tr>\n",
              "    <tr>\n",
              "      <th>4</th>\n",
              "      <td>2021-03-09</td>\n",
              "    </tr>\n",
              "  </tbody>\n",
              "</table>\n",
              "</div>"
            ],
            "text/plain": [
              "          ds\n",
              "0 2021-01-09\n",
              "1 2021-02-08\n",
              "2 2021-02-09\n",
              "3 2021-03-08\n",
              "4 2021-03-09"
            ]
          },
          "metadata": {},
          "execution_count": 40
        }
      ]
    },
    {
      "cell_type": "code",
      "metadata": {
        "id": "M40U8B0D4IIZ",
        "colab": {
          "base_uri": "https://localhost:8080/",
          "height": 204
        },
        "outputId": "86ecd77c-0550-4972-92ef-f0a3e8a04d4f"
      },
      "source": [
        "df.head()"
      ],
      "execution_count": 41,
      "outputs": [
        {
          "output_type": "execute_result",
          "data": {
            "text/html": [
              "<div>\n",
              "<style scoped>\n",
              "    .dataframe tbody tr th:only-of-type {\n",
              "        vertical-align: middle;\n",
              "    }\n",
              "\n",
              "    .dataframe tbody tr th {\n",
              "        vertical-align: top;\n",
              "    }\n",
              "\n",
              "    .dataframe thead th {\n",
              "        text-align: right;\n",
              "    }\n",
              "</style>\n",
              "<table border=\"1\" class=\"dataframe\">\n",
              "  <thead>\n",
              "    <tr style=\"text-align: right;\">\n",
              "      <th></th>\n",
              "      <th>ds</th>\n",
              "      <th>y</th>\n",
              "      <th>suscriptores</th>\n",
              "      <th>dummy</th>\n",
              "    </tr>\n",
              "  </thead>\n",
              "  <tbody>\n",
              "    <tr>\n",
              "      <th>0</th>\n",
              "      <td>2021-05-07</td>\n",
              "      <td>2</td>\n",
              "      <td>3</td>\n",
              "      <td>1</td>\n",
              "    </tr>\n",
              "    <tr>\n",
              "      <th>1</th>\n",
              "      <td>2021-06-07</td>\n",
              "      <td>6</td>\n",
              "      <td>3</td>\n",
              "      <td>1</td>\n",
              "    </tr>\n",
              "    <tr>\n",
              "      <th>2</th>\n",
              "      <td>2021-07-07</td>\n",
              "      <td>13</td>\n",
              "      <td>3</td>\n",
              "      <td>1</td>\n",
              "    </tr>\n",
              "    <tr>\n",
              "      <th>3</th>\n",
              "      <td>2021-08-07</td>\n",
              "      <td>9</td>\n",
              "      <td>3</td>\n",
              "      <td>1</td>\n",
              "    </tr>\n",
              "    <tr>\n",
              "      <th>4</th>\n",
              "      <td>2021-09-07</td>\n",
              "      <td>16</td>\n",
              "      <td>3</td>\n",
              "      <td>1</td>\n",
              "    </tr>\n",
              "  </tbody>\n",
              "</table>\n",
              "</div>"
            ],
            "text/plain": [
              "          ds   y  suscriptores  dummy\n",
              "0 2021-05-07   2             3      1\n",
              "1 2021-06-07   6             3      1\n",
              "2 2021-07-07  13             3      1\n",
              "3 2021-08-07   9             3      1\n",
              "4 2021-09-07  16             3      1"
            ]
          },
          "metadata": {},
          "execution_count": 41
        }
      ]
    },
    {
      "cell_type": "code",
      "metadata": {
        "id": "PeyZ_a-m1FM4",
        "colab": {
          "base_uri": "https://localhost:8080/",
          "height": 204
        },
        "outputId": "e1263e6a-3b6c-456d-cb03-d2379ea0db21"
      },
      "source": [
        "df.tail()"
      ],
      "execution_count": 42,
      "outputs": [
        {
          "output_type": "execute_result",
          "data": {
            "text/html": [
              "<div>\n",
              "<style scoped>\n",
              "    .dataframe tbody tr th:only-of-type {\n",
              "        vertical-align: middle;\n",
              "    }\n",
              "\n",
              "    .dataframe tbody tr th {\n",
              "        vertical-align: top;\n",
              "    }\n",
              "\n",
              "    .dataframe thead th {\n",
              "        text-align: right;\n",
              "    }\n",
              "</style>\n",
              "<table border=\"1\" class=\"dataframe\">\n",
              "  <thead>\n",
              "    <tr style=\"text-align: right;\">\n",
              "      <th></th>\n",
              "      <th>ds</th>\n",
              "      <th>y</th>\n",
              "      <th>suscriptores</th>\n",
              "      <th>dummy</th>\n",
              "    </tr>\n",
              "  </thead>\n",
              "  <tbody>\n",
              "    <tr>\n",
              "      <th>45</th>\n",
              "      <td>2021-06-08</td>\n",
              "      <td>9</td>\n",
              "      <td>4</td>\n",
              "      <td>0</td>\n",
              "    </tr>\n",
              "    <tr>\n",
              "      <th>46</th>\n",
              "      <td>2021-07-08</td>\n",
              "      <td>13</td>\n",
              "      <td>4</td>\n",
              "      <td>0</td>\n",
              "    </tr>\n",
              "    <tr>\n",
              "      <th>47</th>\n",
              "      <td>2021-08-08</td>\n",
              "      <td>7</td>\n",
              "      <td>4</td>\n",
              "      <td>0</td>\n",
              "    </tr>\n",
              "    <tr>\n",
              "      <th>48</th>\n",
              "      <td>2021-09-08</td>\n",
              "      <td>9</td>\n",
              "      <td>4</td>\n",
              "      <td>0</td>\n",
              "    </tr>\n",
              "    <tr>\n",
              "      <th>49</th>\n",
              "      <td>2021-10-08</td>\n",
              "      <td>14</td>\n",
              "      <td>4</td>\n",
              "      <td>0</td>\n",
              "    </tr>\n",
              "  </tbody>\n",
              "</table>\n",
              "</div>"
            ],
            "text/plain": [
              "           ds   y  suscriptores  dummy\n",
              "45 2021-06-08   9             4      0\n",
              "46 2021-07-08  13             4      0\n",
              "47 2021-08-08   7             4      0\n",
              "48 2021-09-08   9             4      0\n",
              "49 2021-10-08  14             4      0"
            ]
          },
          "metadata": {},
          "execution_count": 42
        }
      ]
    },
    {
      "cell_type": "markdown",
      "metadata": {
        "id": "LiNy2Cil1ZTp"
      },
      "source": [
        "En futuroesta todo el pasado mas lo dos a nos adicionales"
      ]
    },
    {
      "cell_type": "code",
      "metadata": {
        "id": "vrmoh0dy1FM6",
        "colab": {
          "base_uri": "https://localhost:8080/",
          "height": 204
        },
        "outputId": "baf199e6-9c7a-4739-e58f-2ac537bdbc59"
      },
      "source": [
        "future.tail()"
      ],
      "execution_count": 43,
      "outputs": [
        {
          "output_type": "execute_result",
          "data": {
            "text/html": [
              "<div>\n",
              "<style scoped>\n",
              "    .dataframe tbody tr th:only-of-type {\n",
              "        vertical-align: middle;\n",
              "    }\n",
              "\n",
              "    .dataframe tbody tr th {\n",
              "        vertical-align: top;\n",
              "    }\n",
              "\n",
              "    .dataframe thead th {\n",
              "        text-align: right;\n",
              "    }\n",
              "</style>\n",
              "<table border=\"1\" class=\"dataframe\">\n",
              "  <thead>\n",
              "    <tr style=\"text-align: right;\">\n",
              "      <th></th>\n",
              "      <th>ds</th>\n",
              "    </tr>\n",
              "  </thead>\n",
              "  <tbody>\n",
              "    <tr>\n",
              "      <th>66</th>\n",
              "      <td>2021-12-28</td>\n",
              "    </tr>\n",
              "    <tr>\n",
              "      <th>67</th>\n",
              "      <td>2021-12-29</td>\n",
              "    </tr>\n",
              "    <tr>\n",
              "      <th>68</th>\n",
              "      <td>2021-12-30</td>\n",
              "    </tr>\n",
              "    <tr>\n",
              "      <th>69</th>\n",
              "      <td>2021-12-31</td>\n",
              "    </tr>\n",
              "    <tr>\n",
              "      <th>70</th>\n",
              "      <td>2022-01-01</td>\n",
              "    </tr>\n",
              "  </tbody>\n",
              "</table>\n",
              "</div>"
            ],
            "text/plain": [
              "           ds\n",
              "66 2021-12-28\n",
              "67 2021-12-29\n",
              "68 2021-12-30\n",
              "69 2021-12-31\n",
              "70 2022-01-01"
            ]
          },
          "metadata": {},
          "execution_count": 43
        }
      ]
    },
    {
      "cell_type": "markdown",
      "metadata": {
        "id": "tze9cMuB1FNC"
      },
      "source": [
        "\n",
        "### Paso 2: Calcular los pronósticos y guardarlos en forecast"
      ]
    },
    {
      "cell_type": "code",
      "metadata": {
        "id": "K2cM8BPa1FNC"
      },
      "source": [
        "forecast = m.predict(future)"
      ],
      "execution_count": 44,
      "outputs": []
    },
    {
      "cell_type": "markdown",
      "metadata": {
        "id": "v1ysEErs1nT5"
      },
      "source": [
        "Yhat son las predicciones"
      ]
    },
    {
      "cell_type": "code",
      "metadata": {
        "id": "pPuB7ulY1FNF",
        "colab": {
          "base_uri": "https://localhost:8080/",
          "height": 309
        },
        "outputId": "daf2fee1-c4da-407f-9f11-594b989bfb74"
      },
      "source": [
        "forecast.head()"
      ],
      "execution_count": 45,
      "outputs": [
        {
          "output_type": "execute_result",
          "data": {
            "text/html": [
              "<div>\n",
              "<style scoped>\n",
              "    .dataframe tbody tr th:only-of-type {\n",
              "        vertical-align: middle;\n",
              "    }\n",
              "\n",
              "    .dataframe tbody tr th {\n",
              "        vertical-align: top;\n",
              "    }\n",
              "\n",
              "    .dataframe thead th {\n",
              "        text-align: right;\n",
              "    }\n",
              "</style>\n",
              "<table border=\"1\" class=\"dataframe\">\n",
              "  <thead>\n",
              "    <tr style=\"text-align: right;\">\n",
              "      <th></th>\n",
              "      <th>ds</th>\n",
              "      <th>trend</th>\n",
              "      <th>yhat_lower</th>\n",
              "      <th>yhat_upper</th>\n",
              "      <th>trend_lower</th>\n",
              "      <th>trend_upper</th>\n",
              "      <th>additive_terms</th>\n",
              "      <th>additive_terms_lower</th>\n",
              "      <th>additive_terms_upper</th>\n",
              "      <th>weekly</th>\n",
              "      <th>weekly_lower</th>\n",
              "      <th>weekly_upper</th>\n",
              "      <th>multiplicative_terms</th>\n",
              "      <th>multiplicative_terms_lower</th>\n",
              "      <th>multiplicative_terms_upper</th>\n",
              "      <th>yhat</th>\n",
              "    </tr>\n",
              "  </thead>\n",
              "  <tbody>\n",
              "    <tr>\n",
              "      <th>0</th>\n",
              "      <td>2021-01-09</td>\n",
              "      <td>8.499439</td>\n",
              "      <td>2.367240</td>\n",
              "      <td>12.825750</td>\n",
              "      <td>8.499439</td>\n",
              "      <td>8.499439</td>\n",
              "      <td>-0.708637</td>\n",
              "      <td>-0.708637</td>\n",
              "      <td>-0.708637</td>\n",
              "      <td>-0.708637</td>\n",
              "      <td>-0.708637</td>\n",
              "      <td>-0.708637</td>\n",
              "      <td>0.0</td>\n",
              "      <td>0.0</td>\n",
              "      <td>0.0</td>\n",
              "      <td>7.790802</td>\n",
              "    </tr>\n",
              "    <tr>\n",
              "      <th>1</th>\n",
              "      <td>2021-02-08</td>\n",
              "      <td>8.373285</td>\n",
              "      <td>0.667727</td>\n",
              "      <td>10.962662</td>\n",
              "      <td>8.373285</td>\n",
              "      <td>8.373285</td>\n",
              "      <td>-2.396973</td>\n",
              "      <td>-2.396973</td>\n",
              "      <td>-2.396973</td>\n",
              "      <td>-2.396973</td>\n",
              "      <td>-2.396973</td>\n",
              "      <td>-2.396973</td>\n",
              "      <td>0.0</td>\n",
              "      <td>0.0</td>\n",
              "      <td>0.0</td>\n",
              "      <td>5.976312</td>\n",
              "    </tr>\n",
              "    <tr>\n",
              "      <th>2</th>\n",
              "      <td>2021-02-09</td>\n",
              "      <td>8.369080</td>\n",
              "      <td>4.833773</td>\n",
              "      <td>15.840280</td>\n",
              "      <td>8.369080</td>\n",
              "      <td>8.369080</td>\n",
              "      <td>2.032235</td>\n",
              "      <td>2.032235</td>\n",
              "      <td>2.032235</td>\n",
              "      <td>2.032235</td>\n",
              "      <td>2.032235</td>\n",
              "      <td>2.032235</td>\n",
              "      <td>0.0</td>\n",
              "      <td>0.0</td>\n",
              "      <td>0.0</td>\n",
              "      <td>10.401315</td>\n",
              "    </tr>\n",
              "    <tr>\n",
              "      <th>3</th>\n",
              "      <td>2021-03-08</td>\n",
              "      <td>8.255541</td>\n",
              "      <td>0.127803</td>\n",
              "      <td>11.166758</td>\n",
              "      <td>8.255541</td>\n",
              "      <td>8.255541</td>\n",
              "      <td>-2.396973</td>\n",
              "      <td>-2.396973</td>\n",
              "      <td>-2.396973</td>\n",
              "      <td>-2.396973</td>\n",
              "      <td>-2.396973</td>\n",
              "      <td>-2.396973</td>\n",
              "      <td>0.0</td>\n",
              "      <td>0.0</td>\n",
              "      <td>0.0</td>\n",
              "      <td>5.858568</td>\n",
              "    </tr>\n",
              "    <tr>\n",
              "      <th>4</th>\n",
              "      <td>2021-03-09</td>\n",
              "      <td>8.251336</td>\n",
              "      <td>5.105402</td>\n",
              "      <td>15.689299</td>\n",
              "      <td>8.251336</td>\n",
              "      <td>8.251336</td>\n",
              "      <td>2.032235</td>\n",
              "      <td>2.032235</td>\n",
              "      <td>2.032235</td>\n",
              "      <td>2.032235</td>\n",
              "      <td>2.032235</td>\n",
              "      <td>2.032235</td>\n",
              "      <td>0.0</td>\n",
              "      <td>0.0</td>\n",
              "      <td>0.0</td>\n",
              "      <td>10.283571</td>\n",
              "    </tr>\n",
              "  </tbody>\n",
              "</table>\n",
              "</div>"
            ],
            "text/plain": [
              "          ds     trend  ...  multiplicative_terms_upper       yhat\n",
              "0 2021-01-09  8.499439  ...                         0.0   7.790802\n",
              "1 2021-02-08  8.373285  ...                         0.0   5.976312\n",
              "2 2021-02-09  8.369080  ...                         0.0  10.401315\n",
              "3 2021-03-08  8.255541  ...                         0.0   5.858568\n",
              "4 2021-03-09  8.251336  ...                         0.0  10.283571\n",
              "\n",
              "[5 rows x 16 columns]"
            ]
          },
          "metadata": {},
          "execution_count": 45
        }
      ]
    },
    {
      "cell_type": "code",
      "metadata": {
        "id": "MM2PI-fQ1FNI",
        "colab": {
          "base_uri": "https://localhost:8080/",
          "height": 309
        },
        "outputId": "e712b32d-3e61-45d9-de26-d3dad894dabc"
      },
      "source": [
        "forecast.tail()"
      ],
      "execution_count": 46,
      "outputs": [
        {
          "output_type": "execute_result",
          "data": {
            "text/html": [
              "<div>\n",
              "<style scoped>\n",
              "    .dataframe tbody tr th:only-of-type {\n",
              "        vertical-align: middle;\n",
              "    }\n",
              "\n",
              "    .dataframe tbody tr th {\n",
              "        vertical-align: top;\n",
              "    }\n",
              "\n",
              "    .dataframe thead th {\n",
              "        text-align: right;\n",
              "    }\n",
              "</style>\n",
              "<table border=\"1\" class=\"dataframe\">\n",
              "  <thead>\n",
              "    <tr style=\"text-align: right;\">\n",
              "      <th></th>\n",
              "      <th>ds</th>\n",
              "      <th>trend</th>\n",
              "      <th>yhat_lower</th>\n",
              "      <th>yhat_upper</th>\n",
              "      <th>trend_lower</th>\n",
              "      <th>trend_upper</th>\n",
              "      <th>additive_terms</th>\n",
              "      <th>additive_terms_lower</th>\n",
              "      <th>additive_terms_upper</th>\n",
              "      <th>weekly</th>\n",
              "      <th>weekly_lower</th>\n",
              "      <th>weekly_upper</th>\n",
              "      <th>multiplicative_terms</th>\n",
              "      <th>multiplicative_terms_lower</th>\n",
              "      <th>multiplicative_terms_upper</th>\n",
              "      <th>yhat</th>\n",
              "    </tr>\n",
              "  </thead>\n",
              "  <tbody>\n",
              "    <tr>\n",
              "      <th>66</th>\n",
              "      <td>2021-12-28</td>\n",
              "      <td>7.015023</td>\n",
              "      <td>3.360961</td>\n",
              "      <td>14.504292</td>\n",
              "      <td>7.015023</td>\n",
              "      <td>7.015023</td>\n",
              "      <td>2.032235</td>\n",
              "      <td>2.032235</td>\n",
              "      <td>2.032235</td>\n",
              "      <td>2.032235</td>\n",
              "      <td>2.032235</td>\n",
              "      <td>2.032235</td>\n",
              "      <td>0.0</td>\n",
              "      <td>0.0</td>\n",
              "      <td>0.0</td>\n",
              "      <td>9.047259</td>\n",
              "    </tr>\n",
              "    <tr>\n",
              "      <th>67</th>\n",
              "      <td>2021-12-29</td>\n",
              "      <td>7.010818</td>\n",
              "      <td>0.607873</td>\n",
              "      <td>11.096545</td>\n",
              "      <td>7.010818</td>\n",
              "      <td>7.010818</td>\n",
              "      <td>-0.986996</td>\n",
              "      <td>-0.986996</td>\n",
              "      <td>-0.986996</td>\n",
              "      <td>-0.986996</td>\n",
              "      <td>-0.986996</td>\n",
              "      <td>-0.986996</td>\n",
              "      <td>0.0</td>\n",
              "      <td>0.0</td>\n",
              "      <td>0.0</td>\n",
              "      <td>6.023822</td>\n",
              "    </tr>\n",
              "    <tr>\n",
              "      <th>68</th>\n",
              "      <td>2021-12-30</td>\n",
              "      <td>7.006613</td>\n",
              "      <td>0.125837</td>\n",
              "      <td>10.982250</td>\n",
              "      <td>7.006613</td>\n",
              "      <td>7.006613</td>\n",
              "      <td>-1.561504</td>\n",
              "      <td>-1.561504</td>\n",
              "      <td>-1.561504</td>\n",
              "      <td>-1.561504</td>\n",
              "      <td>-1.561504</td>\n",
              "      <td>-1.561504</td>\n",
              "      <td>0.0</td>\n",
              "      <td>0.0</td>\n",
              "      <td>0.0</td>\n",
              "      <td>5.445109</td>\n",
              "    </tr>\n",
              "    <tr>\n",
              "      <th>69</th>\n",
              "      <td>2021-12-31</td>\n",
              "      <td>7.002408</td>\n",
              "      <td>6.214181</td>\n",
              "      <td>16.522122</td>\n",
              "      <td>7.002408</td>\n",
              "      <td>7.002408</td>\n",
              "      <td>4.266880</td>\n",
              "      <td>4.266880</td>\n",
              "      <td>4.266880</td>\n",
              "      <td>4.266880</td>\n",
              "      <td>4.266880</td>\n",
              "      <td>4.266880</td>\n",
              "      <td>0.0</td>\n",
              "      <td>0.0</td>\n",
              "      <td>0.0</td>\n",
              "      <td>11.269288</td>\n",
              "    </tr>\n",
              "    <tr>\n",
              "      <th>70</th>\n",
              "      <td>2022-01-01</td>\n",
              "      <td>6.998203</td>\n",
              "      <td>0.835136</td>\n",
              "      <td>11.758639</td>\n",
              "      <td>6.998203</td>\n",
              "      <td>6.998203</td>\n",
              "      <td>-0.708637</td>\n",
              "      <td>-0.708637</td>\n",
              "      <td>-0.708637</td>\n",
              "      <td>-0.708637</td>\n",
              "      <td>-0.708637</td>\n",
              "      <td>-0.708637</td>\n",
              "      <td>0.0</td>\n",
              "      <td>0.0</td>\n",
              "      <td>0.0</td>\n",
              "      <td>6.289566</td>\n",
              "    </tr>\n",
              "  </tbody>\n",
              "</table>\n",
              "</div>"
            ],
            "text/plain": [
              "           ds     trend  ...  multiplicative_terms_upper       yhat\n",
              "66 2021-12-28  7.015023  ...                         0.0   9.047259\n",
              "67 2021-12-29  7.010818  ...                         0.0   6.023822\n",
              "68 2021-12-30  7.006613  ...                         0.0   5.445109\n",
              "69 2021-12-31  7.002408  ...                         0.0  11.269288\n",
              "70 2022-01-01  6.998203  ...                         0.0   6.289566\n",
              "\n",
              "[5 rows x 16 columns]"
            ]
          },
          "metadata": {},
          "execution_count": 46
        }
      ]
    },
    {
      "cell_type": "markdown",
      "metadata": {
        "id": "VY7jOLZw1zh7"
      },
      "source": [
        "Si queremos saber todos los nombres que estan guardados en el pronóstico. y hat, y para el intervalo de confianza yhat lower y yhatupper"
      ]
    },
    {
      "cell_type": "code",
      "metadata": {
        "id": "wH5OGNM31FNL",
        "colab": {
          "base_uri": "https://localhost:8080/"
        },
        "outputId": "86aacfa8-6867-40b1-86ad-782dc191f278"
      },
      "source": [
        "forecast.columns"
      ],
      "execution_count": 47,
      "outputs": [
        {
          "output_type": "execute_result",
          "data": {
            "text/plain": [
              "Index(['ds', 'trend', 'yhat_lower', 'yhat_upper', 'trend_lower', 'trend_upper',\n",
              "       'additive_terms', 'additive_terms_lower', 'additive_terms_upper',\n",
              "       'weekly', 'weekly_lower', 'weekly_upper', 'multiplicative_terms',\n",
              "       'multiplicative_terms_lower', 'multiplicative_terms_upper', 'yhat'],\n",
              "      dtype='object')"
            ]
          },
          "metadata": {},
          "execution_count": 47
        }
      ]
    },
    {
      "cell_type": "code",
      "metadata": {
        "id": "N0QV8H_Z1FNN",
        "colab": {
          "base_uri": "https://localhost:8080/",
          "height": 421
        },
        "outputId": "f5816dcc-3b0f-4462-b984-7482cd895a5f"
      },
      "source": [
        "forecast[['ds', 'yhat', 'yhat_lower', 'yhat_upper']].tail(12)"
      ],
      "execution_count": 48,
      "outputs": [
        {
          "output_type": "execute_result",
          "data": {
            "text/html": [
              "<div>\n",
              "<style scoped>\n",
              "    .dataframe tbody tr th:only-of-type {\n",
              "        vertical-align: middle;\n",
              "    }\n",
              "\n",
              "    .dataframe tbody tr th {\n",
              "        vertical-align: top;\n",
              "    }\n",
              "\n",
              "    .dataframe thead th {\n",
              "        text-align: right;\n",
              "    }\n",
              "</style>\n",
              "<table border=\"1\" class=\"dataframe\">\n",
              "  <thead>\n",
              "    <tr style=\"text-align: right;\">\n",
              "      <th></th>\n",
              "      <th>ds</th>\n",
              "      <th>yhat</th>\n",
              "      <th>yhat_lower</th>\n",
              "      <th>yhat_upper</th>\n",
              "    </tr>\n",
              "  </thead>\n",
              "  <tbody>\n",
              "    <tr>\n",
              "      <th>59</th>\n",
              "      <td>2021-12-21</td>\n",
              "      <td>9.076695</td>\n",
              "      <td>3.378892</td>\n",
              "      <td>14.927452</td>\n",
              "    </tr>\n",
              "    <tr>\n",
              "      <th>60</th>\n",
              "      <td>2021-12-22</td>\n",
              "      <td>6.053258</td>\n",
              "      <td>0.603324</td>\n",
              "      <td>11.392175</td>\n",
              "    </tr>\n",
              "    <tr>\n",
              "      <th>61</th>\n",
              "      <td>2021-12-23</td>\n",
              "      <td>5.474545</td>\n",
              "      <td>-0.057765</td>\n",
              "      <td>11.191140</td>\n",
              "    </tr>\n",
              "    <tr>\n",
              "      <th>62</th>\n",
              "      <td>2021-12-24</td>\n",
              "      <td>11.298724</td>\n",
              "      <td>6.406222</td>\n",
              "      <td>16.915774</td>\n",
              "    </tr>\n",
              "    <tr>\n",
              "      <th>63</th>\n",
              "      <td>2021-12-25</td>\n",
              "      <td>6.319002</td>\n",
              "      <td>0.712762</td>\n",
              "      <td>12.022578</td>\n",
              "    </tr>\n",
              "    <tr>\n",
              "      <th>64</th>\n",
              "      <td>2021-12-26</td>\n",
              "      <td>6.378428</td>\n",
              "      <td>1.284487</td>\n",
              "      <td>11.498030</td>\n",
              "    </tr>\n",
              "    <tr>\n",
              "      <th>65</th>\n",
              "      <td>2021-12-27</td>\n",
              "      <td>4.622256</td>\n",
              "      <td>-0.598343</td>\n",
              "      <td>10.276548</td>\n",
              "    </tr>\n",
              "    <tr>\n",
              "      <th>66</th>\n",
              "      <td>2021-12-28</td>\n",
              "      <td>9.047259</td>\n",
              "      <td>3.360961</td>\n",
              "      <td>14.504292</td>\n",
              "    </tr>\n",
              "    <tr>\n",
              "      <th>67</th>\n",
              "      <td>2021-12-29</td>\n",
              "      <td>6.023822</td>\n",
              "      <td>0.607873</td>\n",
              "      <td>11.096545</td>\n",
              "    </tr>\n",
              "    <tr>\n",
              "      <th>68</th>\n",
              "      <td>2021-12-30</td>\n",
              "      <td>5.445109</td>\n",
              "      <td>0.125837</td>\n",
              "      <td>10.982250</td>\n",
              "    </tr>\n",
              "    <tr>\n",
              "      <th>69</th>\n",
              "      <td>2021-12-31</td>\n",
              "      <td>11.269288</td>\n",
              "      <td>6.214181</td>\n",
              "      <td>16.522122</td>\n",
              "    </tr>\n",
              "    <tr>\n",
              "      <th>70</th>\n",
              "      <td>2022-01-01</td>\n",
              "      <td>6.289566</td>\n",
              "      <td>0.835136</td>\n",
              "      <td>11.758639</td>\n",
              "    </tr>\n",
              "  </tbody>\n",
              "</table>\n",
              "</div>"
            ],
            "text/plain": [
              "           ds       yhat  yhat_lower  yhat_upper\n",
              "59 2021-12-21   9.076695    3.378892   14.927452\n",
              "60 2021-12-22   6.053258    0.603324   11.392175\n",
              "61 2021-12-23   5.474545   -0.057765   11.191140\n",
              "62 2021-12-24  11.298724    6.406222   16.915774\n",
              "63 2021-12-25   6.319002    0.712762   12.022578\n",
              "64 2021-12-26   6.378428    1.284487   11.498030\n",
              "65 2021-12-27   4.622256   -0.598343   10.276548\n",
              "66 2021-12-28   9.047259    3.360961   14.504292\n",
              "67 2021-12-29   6.023822    0.607873   11.096545\n",
              "68 2021-12-30   5.445109    0.125837   10.982250\n",
              "69 2021-12-31  11.269288    6.214181   16.522122\n",
              "70 2022-01-01   6.289566    0.835136   11.758639"
            ]
          },
          "metadata": {},
          "execution_count": 48
        }
      ]
    },
    {
      "cell_type": "markdown",
      "metadata": {
        "id": "fK2eLQ0i1FNQ"
      },
      "source": [
        "### Graficando los pronósticos\n"
      ]
    },
    {
      "cell_type": "code",
      "metadata": {
        "id": "ywuU_kom1FNQ",
        "colab": {
          "base_uri": "https://localhost:8080/",
          "height": 441
        },
        "outputId": "9ef67ea5-0314-4e90-bd51-eb5d50d76489"
      },
      "source": [
        "m.plot(forecast);"
      ],
      "execution_count": 49,
      "outputs": [
        {
          "output_type": "display_data",
          "data": {
            "image/png": "[encoded data removed]",
            "text/plain": [
              "<Figure size 720x432 with 1 Axes>"
            ]
          },
          "metadata": {}
        }
      ]
    },
    {
      "cell_type": "markdown",
      "metadata": {
        "id": "fo3NfK972EI6"
      },
      "source": [
        "Los datos son los puntos negros, los del final son el futuro. La linea azul son el pronóstico, para ampliarlo ver la siguiente instrucción."
      ]
    },
    {
      "cell_type": "code",
      "metadata": {
        "id": "xCBVhXBS6iCH"
      },
      "source": [
        "pd.plotting.register_matplotlib_converters()"
      ],
      "execution_count": 50,
      "outputs": []
    },
    {
      "cell_type": "code",
      "metadata": {
        "id": "Eh-uZ1wB1FNT",
        "colab": {
          "base_uri": "https://localhost:8080/",
          "height": 458
        },
        "outputId": "d833d9a9-331e-479e-cec4-55f9e061d807"
      },
      "source": [
        "import matplotlib.pyplot as plt\n",
        "m.plot(forecast)\n",
        "plt.xlim('2021-11-01','2022-01-01')"
      ],
      "execution_count": 52,
      "outputs": [
        {
          "output_type": "execute_result",
          "data": {
            "text/plain": [
              "(738095.0, 738156.0)"
            ]
          },
          "metadata": {},
          "execution_count": 52
        },
        {
          "output_type": "display_data",
          "data": {
            "image/png": "[encoded data removed]",
            "text/plain": [
              "<Figure size 720x432 with 1 Axes>"
            ]
          },
          "metadata": {}
        }
      ]
    },
    {
      "cell_type": "markdown",
      "metadata": {
        "id": "SV10n8Kd3Ifp"
      },
      "source": [
        "Para graficar solamente la predicción:"
      ]
    },
    {
      "cell_type": "code",
      "metadata": {
        "id": "8RxOsFGY1FNV",
        "colab": {
          "base_uri": "https://localhost:8080/",
          "height": 294
        },
        "outputId": "fff04d0c-ae0f-4843-f7d3-e780c6aa54d4"
      },
      "source": [
        "forecast.plot(x='ds',y='yhat')"
      ],
      "execution_count": 53,
      "outputs": [
        {
          "output_type": "execute_result",
          "data": {
            "text/plain": [
              "<matplotlib.axes._subplots.AxesSubplot at 0x7f5df9a36f90>"
            ]
          },
          "metadata": {},
          "execution_count": 53
        },
        {
          "output_type": "display_data",
          "data": {
            "image/png": "[encoded data removed]",
            "text/plain": [
              "<Figure size 432x288 with 1 Axes>"
            ]
          },
          "metadata": {
            "needs_background": "light"
          }
        }
      ]
    },
    {
      "cell_type": "markdown",
      "metadata": {
        "id": "TJ4vv5lC3bEU"
      },
      "source": [
        "Se dibuja el componente de tendencia, y componenete de tendencia anual hay un pico anual en Diciembre donde la gente tiende a comprar más alochol"
      ]
    },
    {
      "cell_type": "code",
      "metadata": {
        "id": "6ZSzrAyt1FNX",
        "colab": {
          "base_uri": "https://localhost:8080/",
          "height": 441
        },
        "outputId": "10567274-5508-4f80-bc7a-2b4f94d5785b"
      },
      "source": [
        "m.plot_components(forecast);\n"
      ],
      "execution_count": 54,
      "outputs": [
        {
          "output_type": "display_data",
          "data": {
            "image/png": "[encoded data removed]",
            "text/plain": [
              "<Figure size 648x432 with 2 Axes>"
            ]
          },
          "metadata": {}
        }
      ]
    }
  ]
}