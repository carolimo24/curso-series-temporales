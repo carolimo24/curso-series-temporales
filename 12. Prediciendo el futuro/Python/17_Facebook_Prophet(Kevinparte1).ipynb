{
  "nbformat": 4,
  "nbformat_minor": 0,
  "metadata": {
    "kernelspec": {
      "display_name": "Python 3",
      "language": "python",
      "name": "python3"
    },
    "language_info": {
      "codemirror_mode": {
        "name": "ipython",
        "version": 3
      },
      "file_extension": ".py",
      "mimetype": "text/x-python",
      "name": "python",
      "nbconvert_exporter": "python",
      "pygments_lexer": "ipython3",
      "version": "3.6.7"
    },
    "colab": {
      "name": "17_Facebook_Prophet.ipynb",
      "provenance": []
    }
  },
  "cells": [
    {
      "cell_type": "markdown",
      "metadata": {
        "id": "WVzF4wSY1FMc"
      },
      "source": [
        "## Load Libraries"
      ]
    },
    {
      "cell_type": "code",
      "metadata": {
        "colab": {
          "base_uri": "https://localhost:8080/"
        },
        "id": "w90aGEcDfJOQ",
        "outputId": "53464d42-a0a6-4cda-9cc7-b64fe0b4752f"
      },
      "source": [
        "from google.colab import drive\n",
        "drive.mount('/content/drive')"
      ],
      "execution_count": 109,
      "outputs": [
        {
          "output_type": "stream",
          "name": "stdout",
          "text": [
            "Drive already mounted at /content/drive; to attempt to forcibly remount, call drive.mount(\"/content/drive\", force_remount=True).\n"
          ]
        }
      ]
    },
    {
      "cell_type": "code",
      "metadata": {
        "id": "keIw3oXP1FMd"
      },
      "source": [
        "import pandas as pd\n",
        "from fbprophet import Prophet"
      ],
      "execution_count": 110,
      "outputs": []
    },
    {
      "cell_type": "markdown",
      "metadata": {
        "id": "jgbHZr6X1FMg"
      },
      "source": [
        "## Load Data\n",
        "Datos de ventas de bebidas alcoholicas. Datos mensuales y son las ventas.\n",
        "\n"
      ]
    },
    {
      "cell_type": "code",
      "metadata": {
        "id": "3bRgVkIL1FMh"
      },
      "source": [
        "df = pd.read_csv('/content/drive/MyDrive/Python-Prophet-K/Libro1111.csv')"
      ],
      "execution_count": 112,
      "outputs": []
    },
    {
      "cell_type": "code",
      "metadata": {
        "id": "yxT9P1Bu1FMj",
        "colab": {
          "base_uri": "https://localhost:8080/",
          "height": 204
        },
        "outputId": "fc82630c-568c-42ca-84d8-926bd8449f28"
      },
      "source": [
        "df.head()"
      ],
      "execution_count": null,
      "outputs": [
        {
          "output_type": "execute_result",
          "data": {
            "text/html": [
              "<div>\n",
              "<style scoped>\n",
              "    .dataframe tbody tr th:only-of-type {\n",
              "        vertical-align: middle;\n",
              "    }\n",
              "\n",
              "    .dataframe tbody tr th {\n",
              "        vertical-align: top;\n",
              "    }\n",
              "\n",
              "    .dataframe thead th {\n",
              "        text-align: right;\n",
              "    }\n",
              "</style>\n",
              "<table border=\"1\" class=\"dataframe\">\n",
              "  <thead>\n",
              "    <tr style=\"text-align: right;\">\n",
              "      <th></th>\n",
              "      <th>tiempo</th>\n",
              "      <th>Tareas Realizadas</th>\n",
              "      <th>Suscriptores</th>\n",
              "      <th>dummy</th>\n",
              "    </tr>\n",
              "  </thead>\n",
              "  <tbody>\n",
              "    <tr>\n",
              "      <th>0</th>\n",
              "      <td>05/07/2021</td>\n",
              "      <td>2</td>\n",
              "      <td>3</td>\n",
              "      <td>1</td>\n",
              "    </tr>\n",
              "    <tr>\n",
              "      <th>1</th>\n",
              "      <td>06/07/2021</td>\n",
              "      <td>6</td>\n",
              "      <td>3</td>\n",
              "      <td>1</td>\n",
              "    </tr>\n",
              "    <tr>\n",
              "      <th>2</th>\n",
              "      <td>07/07/2021</td>\n",
              "      <td>13</td>\n",
              "      <td>3</td>\n",
              "      <td>1</td>\n",
              "    </tr>\n",
              "    <tr>\n",
              "      <th>3</th>\n",
              "      <td>08/07/2021</td>\n",
              "      <td>9</td>\n",
              "      <td>3</td>\n",
              "      <td>1</td>\n",
              "    </tr>\n",
              "    <tr>\n",
              "      <th>4</th>\n",
              "      <td>09/07/2021</td>\n",
              "      <td>16</td>\n",
              "      <td>3</td>\n",
              "      <td>1</td>\n",
              "    </tr>\n",
              "  </tbody>\n",
              "</table>\n",
              "</div>"
            ],
            "text/plain": [
              "      tiempo   Tareas Realizadas  Suscriptores  dummy\n",
              "0  05/07/2021                  2             3      1\n",
              "1  06/07/2021                  6             3      1\n",
              "2  07/07/2021                 13             3      1\n",
              "3  08/07/2021                  9             3      1\n",
              "4  09/07/2021                 16             3      1"
            ]
          },
          "metadata": {},
          "execution_count": 34
        }
      ]
    },
    {
      "cell_type": "code",
      "metadata": {
        "id": "oy9mkUL7pZbv",
        "outputId": "bf96bdea-7aaf-4498-940d-87ab4890f8aa",
        "colab": {
          "base_uri": "https://localhost:8080/"
        }
      },
      "source": [
        "df.info()"
      ],
      "execution_count": 144,
      "outputs": [
        {
          "output_type": "stream",
          "name": "stdout",
          "text": [
            "<class 'pandas.core.frame.DataFrame'>\n",
            "RangeIndex: 50 entries, 0 to 49\n",
            "Data columns (total 4 columns):\n",
            " #   Column        Non-Null Count  Dtype         \n",
            "---  ------        --------------  -----         \n",
            " 0   ds            50 non-null     datetime64[ns]\n",
            " 1   y             50 non-null     int64         \n",
            " 2   suscriptores  50 non-null     int64         \n",
            " 3   dummy         50 non-null     int64         \n",
            "dtypes: datetime64[ns](1), int64(3)\n",
            "memory usage: 1.7 KB\n"
          ]
        }
      ]
    },
    {
      "cell_type": "markdown",
      "metadata": {
        "id": "ocMQ35vp1FMo"
      },
      "source": [
        "### Format the Data\n",
        "Para asgurarnos que los datos sean fechas, esta libreria requiere que los datos esten de una forma especifica, toca llamarlo dfcolumns =['ds', 'y'] se debe cambiar el nombre de las columnas, por defecto prophet utiliza una frecuencia diaria. \n",
        "pd.to_datetime: Se transofrman los datos en tipo fecha."
      ]
    },
    {
      "cell_type": "code",
      "metadata": {
        "id": "W8GyGJRy1FMp"
      },
      "source": [
        "df.columns = ['ds','y', 'suscriptores', 'dummy']"
      ],
      "execution_count": 113,
      "outputs": []
    },
    {
      "cell_type": "code",
      "metadata": {
        "id": "xl1gFcpb1FMt"
      },
      "source": [
        "df['ds'] = pd.to_datetime(df['ds'])"
      ],
      "execution_count": 114,
      "outputs": []
    },
    {
      "cell_type": "code",
      "metadata": {
        "id": "OML3WslS3RpV",
        "outputId": "c69c5416-3b42-4766-8ddc-6787096d5c78",
        "colab": {
          "base_uri": "https://localhost:8080/",
          "height": 331
        }
      },
      "source": [
        "df.plot(x='ds', y = 'y')"
      ],
      "execution_count": 160,
      "outputs": [
        {
          "output_type": "execute_result",
          "data": {
            "text/plain": [
              "<matplotlib.axes._subplots.AxesSubplot at 0x7fbdfd740b90>"
            ]
          },
          "metadata": {},
          "execution_count": 160
        },
        {
          "output_type": "display_data",
          "data": {
            "image/png": "[encoded data removed]",
            "text/plain": [
              "<Figure size 432x288 with 1 Axes>"
            ]
          },
          "metadata": {
            "needs_background": "light"
          }
        }
      ]
    },
    {
      "cell_type": "markdown",
      "metadata": {
        "id": "gAk5UvhA1FMw"
      },
      "source": [
        "## Create and Fit Model\n"
      ]
    },
    {
      "cell_type": "code",
      "metadata": {
        "id": "B-YRR9FI1FMw",
        "colab": {
          "base_uri": "https://localhost:8080/"
        },
        "outputId": "96d84aa7-40b4-4ee0-efd3-f3247aa6b486"
      },
      "source": [
        "m = Prophet(daily_seasonality=True, weekly_seasonality='auto')\n",
        "m.fit(df)"
      ],
      "execution_count": 145,
      "outputs": [
        {
          "output_type": "stream",
          "name": "stderr",
          "text": [
            "INFO:fbprophet:Disabling yearly seasonality. Run prophet with yearly_seasonality=True to override this.\n"
          ]
        },
        {
          "output_type": "execute_result",
          "data": {
            "text/plain": [
              "<fbprophet.forecaster.Prophet at 0x7fbdfdac8dd0>"
            ]
          },
          "metadata": {},
          "execution_count": 145
        }
      ]
    },
    {
      "cell_type": "markdown",
      "metadata": {
        "id": "Z_VHakQxkKlI"
      },
      "source": [
        "Prophet(interval_width=0.90) para cambiar la confianza de los pronosticos"
      ]
    },
    {
      "cell_type": "markdown",
      "metadata": {
        "id": "5-UgbZkP1FM0"
      },
      "source": [
        "## Pronósticos del futuro\n",
        "\n",
        "### Paso 1: Crear el dataframe donde colocaremos los resultados\n",
        "m.make_future_dataframe(periods=24,freq = 'MS')\n",
        "este método que se llama make_Future_dataframe sobre nuestro modelo m, luego la cantidad de elementos que queremos pronósticar en el futuro, como es mensual colocamos 24, luego especificamos la frecuencia que estamos considerando, porque por defecto estan diario. Aca se cambia a mensual.\n"
      ]
    },
    {
      "cell_type": "code",
      "metadata": {
        "id": "cQ2X2Fo91FM1"
      },
      "source": [
        "future = m.make_future_dataframe(periods=24)"
      ],
      "execution_count": 146,
      "outputs": []
    },
    {
      "cell_type": "code",
      "metadata": {
        "id": "AgoECzEP3-iA",
        "colab": {
          "base_uri": "https://localhost:8080/",
          "height": 204
        },
        "outputId": "0f5340b3-4002-4682-95fe-7c5e19a257ec"
      },
      "source": [
        "future.head()"
      ],
      "execution_count": 147,
      "outputs": [
        {
          "output_type": "execute_result",
          "data": {
            "text/html": [
              "<div>\n",
              "<style scoped>\n",
              "    .dataframe tbody tr th:only-of-type {\n",
              "        vertical-align: middle;\n",
              "    }\n",
              "\n",
              "    .dataframe tbody tr th {\n",
              "        vertical-align: top;\n",
              "    }\n",
              "\n",
              "    .dataframe thead th {\n",
              "        text-align: right;\n",
              "    }\n",
              "</style>\n",
              "<table border=\"1\" class=\"dataframe\">\n",
              "  <thead>\n",
              "    <tr style=\"text-align: right;\">\n",
              "      <th></th>\n",
              "      <th>ds</th>\n",
              "    </tr>\n",
              "  </thead>\n",
              "  <tbody>\n",
              "    <tr>\n",
              "      <th>0</th>\n",
              "      <td>2021-07-05</td>\n",
              "    </tr>\n",
              "    <tr>\n",
              "      <th>1</th>\n",
              "      <td>2021-07-06</td>\n",
              "    </tr>\n",
              "    <tr>\n",
              "      <th>2</th>\n",
              "      <td>2021-07-07</td>\n",
              "    </tr>\n",
              "    <tr>\n",
              "      <th>3</th>\n",
              "      <td>2021-07-08</td>\n",
              "    </tr>\n",
              "    <tr>\n",
              "      <th>4</th>\n",
              "      <td>2021-07-09</td>\n",
              "    </tr>\n",
              "  </tbody>\n",
              "</table>\n",
              "</div>"
            ],
            "text/plain": [
              "          ds\n",
              "0 2021-07-05\n",
              "1 2021-07-06\n",
              "2 2021-07-07\n",
              "3 2021-07-08\n",
              "4 2021-07-09"
            ]
          },
          "metadata": {},
          "execution_count": 147
        }
      ]
    },
    {
      "cell_type": "code",
      "metadata": {
        "id": "M40U8B0D4IIZ",
        "colab": {
          "base_uri": "https://localhost:8080/",
          "height": 204
        },
        "outputId": "9aaafff8-bc44-49b0-d64e-60c53cfd6f6f"
      },
      "source": [
        "df.head()"
      ],
      "execution_count": 148,
      "outputs": [
        {
          "output_type": "execute_result",
          "data": {
            "text/html": [
              "<div>\n",
              "<style scoped>\n",
              "    .dataframe tbody tr th:only-of-type {\n",
              "        vertical-align: middle;\n",
              "    }\n",
              "\n",
              "    .dataframe tbody tr th {\n",
              "        vertical-align: top;\n",
              "    }\n",
              "\n",
              "    .dataframe thead th {\n",
              "        text-align: right;\n",
              "    }\n",
              "</style>\n",
              "<table border=\"1\" class=\"dataframe\">\n",
              "  <thead>\n",
              "    <tr style=\"text-align: right;\">\n",
              "      <th></th>\n",
              "      <th>ds</th>\n",
              "      <th>y</th>\n",
              "      <th>suscriptores</th>\n",
              "      <th>dummy</th>\n",
              "    </tr>\n",
              "  </thead>\n",
              "  <tbody>\n",
              "    <tr>\n",
              "      <th>0</th>\n",
              "      <td>2021-07-05</td>\n",
              "      <td>2</td>\n",
              "      <td>3</td>\n",
              "      <td>1</td>\n",
              "    </tr>\n",
              "    <tr>\n",
              "      <th>1</th>\n",
              "      <td>2021-07-06</td>\n",
              "      <td>6</td>\n",
              "      <td>3</td>\n",
              "      <td>1</td>\n",
              "    </tr>\n",
              "    <tr>\n",
              "      <th>2</th>\n",
              "      <td>2021-07-07</td>\n",
              "      <td>13</td>\n",
              "      <td>3</td>\n",
              "      <td>1</td>\n",
              "    </tr>\n",
              "    <tr>\n",
              "      <th>3</th>\n",
              "      <td>2021-07-08</td>\n",
              "      <td>9</td>\n",
              "      <td>3</td>\n",
              "      <td>1</td>\n",
              "    </tr>\n",
              "    <tr>\n",
              "      <th>4</th>\n",
              "      <td>2021-07-09</td>\n",
              "      <td>16</td>\n",
              "      <td>3</td>\n",
              "      <td>1</td>\n",
              "    </tr>\n",
              "  </tbody>\n",
              "</table>\n",
              "</div>"
            ],
            "text/plain": [
              "          ds   y  suscriptores  dummy\n",
              "0 2021-07-05   2             3      1\n",
              "1 2021-07-06   6             3      1\n",
              "2 2021-07-07  13             3      1\n",
              "3 2021-07-08   9             3      1\n",
              "4 2021-07-09  16             3      1"
            ]
          },
          "metadata": {},
          "execution_count": 148
        }
      ]
    },
    {
      "cell_type": "code",
      "metadata": {
        "id": "PeyZ_a-m1FM4",
        "colab": {
          "base_uri": "https://localhost:8080/",
          "height": 204
        },
        "outputId": "2706f9c8-290e-45eb-d893-c865a56fb0e6"
      },
      "source": [
        "df.tail()"
      ],
      "execution_count": 149,
      "outputs": [
        {
          "output_type": "execute_result",
          "data": {
            "text/html": [
              "<div>\n",
              "<style scoped>\n",
              "    .dataframe tbody tr th:only-of-type {\n",
              "        vertical-align: middle;\n",
              "    }\n",
              "\n",
              "    .dataframe tbody tr th {\n",
              "        vertical-align: top;\n",
              "    }\n",
              "\n",
              "    .dataframe thead th {\n",
              "        text-align: right;\n",
              "    }\n",
              "</style>\n",
              "<table border=\"1\" class=\"dataframe\">\n",
              "  <thead>\n",
              "    <tr style=\"text-align: right;\">\n",
              "      <th></th>\n",
              "      <th>ds</th>\n",
              "      <th>y</th>\n",
              "      <th>suscriptores</th>\n",
              "      <th>dummy</th>\n",
              "    </tr>\n",
              "  </thead>\n",
              "  <tbody>\n",
              "    <tr>\n",
              "      <th>45</th>\n",
              "      <td>2021-09-06</td>\n",
              "      <td>9</td>\n",
              "      <td>4</td>\n",
              "      <td>0</td>\n",
              "    </tr>\n",
              "    <tr>\n",
              "      <th>46</th>\n",
              "      <td>2021-09-07</td>\n",
              "      <td>13</td>\n",
              "      <td>4</td>\n",
              "      <td>0</td>\n",
              "    </tr>\n",
              "    <tr>\n",
              "      <th>47</th>\n",
              "      <td>2021-09-08</td>\n",
              "      <td>7</td>\n",
              "      <td>4</td>\n",
              "      <td>0</td>\n",
              "    </tr>\n",
              "    <tr>\n",
              "      <th>48</th>\n",
              "      <td>2021-09-09</td>\n",
              "      <td>9</td>\n",
              "      <td>4</td>\n",
              "      <td>0</td>\n",
              "    </tr>\n",
              "    <tr>\n",
              "      <th>49</th>\n",
              "      <td>2021-09-10</td>\n",
              "      <td>14</td>\n",
              "      <td>4</td>\n",
              "      <td>0</td>\n",
              "    </tr>\n",
              "  </tbody>\n",
              "</table>\n",
              "</div>"
            ],
            "text/plain": [
              "           ds   y  suscriptores  dummy\n",
              "45 2021-09-06   9             4      0\n",
              "46 2021-09-07  13             4      0\n",
              "47 2021-09-08   7             4      0\n",
              "48 2021-09-09   9             4      0\n",
              "49 2021-09-10  14             4      0"
            ]
          },
          "metadata": {},
          "execution_count": 149
        }
      ]
    },
    {
      "cell_type": "markdown",
      "metadata": {
        "id": "LiNy2Cil1ZTp"
      },
      "source": [
        "En futuroesta todo el pasado mas lo dos a nos adicionales"
      ]
    },
    {
      "cell_type": "code",
      "metadata": {
        "id": "vrmoh0dy1FM6",
        "colab": {
          "base_uri": "https://localhost:8080/",
          "height": 204
        },
        "outputId": "bd5836d4-c475-4764-a0e2-c920e11f85a3"
      },
      "source": [
        "future.tail()"
      ],
      "execution_count": 150,
      "outputs": [
        {
          "output_type": "execute_result",
          "data": {
            "text/html": [
              "<div>\n",
              "<style scoped>\n",
              "    .dataframe tbody tr th:only-of-type {\n",
              "        vertical-align: middle;\n",
              "    }\n",
              "\n",
              "    .dataframe tbody tr th {\n",
              "        vertical-align: top;\n",
              "    }\n",
              "\n",
              "    .dataframe thead th {\n",
              "        text-align: right;\n",
              "    }\n",
              "</style>\n",
              "<table border=\"1\" class=\"dataframe\">\n",
              "  <thead>\n",
              "    <tr style=\"text-align: right;\">\n",
              "      <th></th>\n",
              "      <th>ds</th>\n",
              "    </tr>\n",
              "  </thead>\n",
              "  <tbody>\n",
              "    <tr>\n",
              "      <th>69</th>\n",
              "      <td>2021-09-30</td>\n",
              "    </tr>\n",
              "    <tr>\n",
              "      <th>70</th>\n",
              "      <td>2021-10-01</td>\n",
              "    </tr>\n",
              "    <tr>\n",
              "      <th>71</th>\n",
              "      <td>2021-10-02</td>\n",
              "    </tr>\n",
              "    <tr>\n",
              "      <th>72</th>\n",
              "      <td>2021-10-03</td>\n",
              "    </tr>\n",
              "    <tr>\n",
              "      <th>73</th>\n",
              "      <td>2021-10-04</td>\n",
              "    </tr>\n",
              "  </tbody>\n",
              "</table>\n",
              "</div>"
            ],
            "text/plain": [
              "           ds\n",
              "69 2021-09-30\n",
              "70 2021-10-01\n",
              "71 2021-10-02\n",
              "72 2021-10-03\n",
              "73 2021-10-04"
            ]
          },
          "metadata": {},
          "execution_count": 150
        }
      ]
    },
    {
      "cell_type": "markdown",
      "metadata": {
        "id": "tze9cMuB1FNC"
      },
      "source": [
        "\n",
        "### Paso 2: Calcular los pronósticos y guardarlos en forecast"
      ]
    },
    {
      "cell_type": "code",
      "metadata": {
        "id": "K2cM8BPa1FNC"
      },
      "source": [
        "forecast = m.predict(future)"
      ],
      "execution_count": 151,
      "outputs": []
    },
    {
      "cell_type": "markdown",
      "metadata": {
        "id": "v1ysEErs1nT5"
      },
      "source": [
        "Yhat son las predicciones"
      ]
    },
    {
      "cell_type": "code",
      "metadata": {
        "id": "pPuB7ulY1FNF",
        "colab": {
          "base_uri": "https://localhost:8080/",
          "height": 309
        },
        "outputId": "872644cd-c057-4b4d-a1a9-2119c8ea70db"
      },
      "source": [
        "forecast.head()"
      ],
      "execution_count": 152,
      "outputs": [
        {
          "output_type": "execute_result",
          "data": {
            "text/html": [
              "<div>\n",
              "<style scoped>\n",
              "    .dataframe tbody tr th:only-of-type {\n",
              "        vertical-align: middle;\n",
              "    }\n",
              "\n",
              "    .dataframe tbody tr th {\n",
              "        vertical-align: top;\n",
              "    }\n",
              "\n",
              "    .dataframe thead th {\n",
              "        text-align: right;\n",
              "    }\n",
              "</style>\n",
              "<table border=\"1\" class=\"dataframe\">\n",
              "  <thead>\n",
              "    <tr style=\"text-align: right;\">\n",
              "      <th></th>\n",
              "      <th>ds</th>\n",
              "      <th>trend</th>\n",
              "      <th>yhat_lower</th>\n",
              "      <th>yhat_upper</th>\n",
              "      <th>trend_lower</th>\n",
              "      <th>trend_upper</th>\n",
              "      <th>additive_terms</th>\n",
              "      <th>additive_terms_lower</th>\n",
              "      <th>additive_terms_upper</th>\n",
              "      <th>daily</th>\n",
              "      <th>daily_lower</th>\n",
              "      <th>daily_upper</th>\n",
              "      <th>weekly</th>\n",
              "      <th>weekly_lower</th>\n",
              "      <th>weekly_upper</th>\n",
              "      <th>multiplicative_terms</th>\n",
              "      <th>multiplicative_terms_lower</th>\n",
              "      <th>multiplicative_terms_upper</th>\n",
              "      <th>yhat</th>\n",
              "    </tr>\n",
              "  </thead>\n",
              "  <tbody>\n",
              "    <tr>\n",
              "      <th>0</th>\n",
              "      <td>2021-07-05</td>\n",
              "      <td>0.442558</td>\n",
              "      <td>1.968935</td>\n",
              "      <td>11.524873</td>\n",
              "      <td>0.442558</td>\n",
              "      <td>0.442558</td>\n",
              "      <td>6.343571</td>\n",
              "      <td>6.343571</td>\n",
              "      <td>6.343571</td>\n",
              "      <td>7.441012</td>\n",
              "      <td>7.441012</td>\n",
              "      <td>7.441012</td>\n",
              "      <td>-1.097441</td>\n",
              "      <td>-1.097441</td>\n",
              "      <td>-1.097441</td>\n",
              "      <td>0.0</td>\n",
              "      <td>0.0</td>\n",
              "      <td>0.0</td>\n",
              "      <td>6.786129</td>\n",
              "    </tr>\n",
              "    <tr>\n",
              "      <th>1</th>\n",
              "      <td>2021-07-06</td>\n",
              "      <td>0.436729</td>\n",
              "      <td>2.894509</td>\n",
              "      <td>12.409706</td>\n",
              "      <td>0.436729</td>\n",
              "      <td>0.436729</td>\n",
              "      <td>7.247946</td>\n",
              "      <td>7.247946</td>\n",
              "      <td>7.247946</td>\n",
              "      <td>7.441012</td>\n",
              "      <td>7.441012</td>\n",
              "      <td>7.441012</td>\n",
              "      <td>-0.193066</td>\n",
              "      <td>-0.193066</td>\n",
              "      <td>-0.193066</td>\n",
              "      <td>0.0</td>\n",
              "      <td>0.0</td>\n",
              "      <td>0.0</td>\n",
              "      <td>7.684675</td>\n",
              "    </tr>\n",
              "    <tr>\n",
              "      <th>2</th>\n",
              "      <td>2021-07-07</td>\n",
              "      <td>0.430900</td>\n",
              "      <td>2.049499</td>\n",
              "      <td>11.255191</td>\n",
              "      <td>0.430900</td>\n",
              "      <td>0.430900</td>\n",
              "      <td>5.957114</td>\n",
              "      <td>5.957114</td>\n",
              "      <td>5.957114</td>\n",
              "      <td>7.441012</td>\n",
              "      <td>7.441012</td>\n",
              "      <td>7.441012</td>\n",
              "      <td>-1.483898</td>\n",
              "      <td>-1.483898</td>\n",
              "      <td>-1.483898</td>\n",
              "      <td>0.0</td>\n",
              "      <td>0.0</td>\n",
              "      <td>0.0</td>\n",
              "      <td>6.388014</td>\n",
              "    </tr>\n",
              "    <tr>\n",
              "      <th>3</th>\n",
              "      <td>2021-07-08</td>\n",
              "      <td>0.425071</td>\n",
              "      <td>1.127631</td>\n",
              "      <td>10.717395</td>\n",
              "      <td>0.425071</td>\n",
              "      <td>0.425071</td>\n",
              "      <td>5.464539</td>\n",
              "      <td>5.464539</td>\n",
              "      <td>5.464539</td>\n",
              "      <td>7.441012</td>\n",
              "      <td>7.441012</td>\n",
              "      <td>7.441012</td>\n",
              "      <td>-1.976473</td>\n",
              "      <td>-1.976473</td>\n",
              "      <td>-1.976473</td>\n",
              "      <td>0.0</td>\n",
              "      <td>0.0</td>\n",
              "      <td>0.0</td>\n",
              "      <td>5.889610</td>\n",
              "    </tr>\n",
              "    <tr>\n",
              "      <th>4</th>\n",
              "      <td>2021-07-09</td>\n",
              "      <td>0.419242</td>\n",
              "      <td>9.910927</td>\n",
              "      <td>19.359784</td>\n",
              "      <td>0.419242</td>\n",
              "      <td>0.419242</td>\n",
              "      <td>14.052142</td>\n",
              "      <td>14.052142</td>\n",
              "      <td>14.052142</td>\n",
              "      <td>7.441012</td>\n",
              "      <td>7.441012</td>\n",
              "      <td>7.441012</td>\n",
              "      <td>6.611130</td>\n",
              "      <td>6.611130</td>\n",
              "      <td>6.611130</td>\n",
              "      <td>0.0</td>\n",
              "      <td>0.0</td>\n",
              "      <td>0.0</td>\n",
              "      <td>14.471383</td>\n",
              "    </tr>\n",
              "  </tbody>\n",
              "</table>\n",
              "</div>"
            ],
            "text/plain": [
              "          ds     trend  ...  multiplicative_terms_upper       yhat\n",
              "0 2021-07-05  0.442558  ...                         0.0   6.786129\n",
              "1 2021-07-06  0.436729  ...                         0.0   7.684675\n",
              "2 2021-07-07  0.430900  ...                         0.0   6.388014\n",
              "3 2021-07-08  0.425071  ...                         0.0   5.889610\n",
              "4 2021-07-09  0.419242  ...                         0.0  14.471383\n",
              "\n",
              "[5 rows x 19 columns]"
            ]
          },
          "metadata": {},
          "execution_count": 152
        }
      ]
    },
    {
      "cell_type": "code",
      "metadata": {
        "id": "MM2PI-fQ1FNI",
        "colab": {
          "base_uri": "https://localhost:8080/",
          "height": 309
        },
        "outputId": "b43e26b5-fe66-40a2-bd3a-def54d5d771a"
      },
      "source": [
        "forecast.tail()"
      ],
      "execution_count": 153,
      "outputs": [
        {
          "output_type": "execute_result",
          "data": {
            "text/html": [
              "<div>\n",
              "<style scoped>\n",
              "    .dataframe tbody tr th:only-of-type {\n",
              "        vertical-align: middle;\n",
              "    }\n",
              "\n",
              "    .dataframe tbody tr th {\n",
              "        vertical-align: top;\n",
              "    }\n",
              "\n",
              "    .dataframe thead th {\n",
              "        text-align: right;\n",
              "    }\n",
              "</style>\n",
              "<table border=\"1\" class=\"dataframe\">\n",
              "  <thead>\n",
              "    <tr style=\"text-align: right;\">\n",
              "      <th></th>\n",
              "      <th>ds</th>\n",
              "      <th>trend</th>\n",
              "      <th>yhat_lower</th>\n",
              "      <th>yhat_upper</th>\n",
              "      <th>trend_lower</th>\n",
              "      <th>trend_upper</th>\n",
              "      <th>additive_terms</th>\n",
              "      <th>additive_terms_lower</th>\n",
              "      <th>additive_terms_upper</th>\n",
              "      <th>daily</th>\n",
              "      <th>daily_lower</th>\n",
              "      <th>daily_upper</th>\n",
              "      <th>weekly</th>\n",
              "      <th>weekly_lower</th>\n",
              "      <th>weekly_upper</th>\n",
              "      <th>multiplicative_terms</th>\n",
              "      <th>multiplicative_terms_lower</th>\n",
              "      <th>multiplicative_terms_upper</th>\n",
              "      <th>yhat</th>\n",
              "    </tr>\n",
              "  </thead>\n",
              "  <tbody>\n",
              "    <tr>\n",
              "      <th>69</th>\n",
              "      <td>2021-09-30</td>\n",
              "      <td>-0.064368</td>\n",
              "      <td>0.692780</td>\n",
              "      <td>10.154456</td>\n",
              "      <td>-0.064378</td>\n",
              "      <td>-0.064360</td>\n",
              "      <td>5.464539</td>\n",
              "      <td>5.464539</td>\n",
              "      <td>5.464539</td>\n",
              "      <td>7.441012</td>\n",
              "      <td>7.441012</td>\n",
              "      <td>7.441012</td>\n",
              "      <td>-1.976473</td>\n",
              "      <td>-1.976473</td>\n",
              "      <td>-1.976473</td>\n",
              "      <td>0.0</td>\n",
              "      <td>0.0</td>\n",
              "      <td>0.0</td>\n",
              "      <td>5.400171</td>\n",
              "    </tr>\n",
              "    <tr>\n",
              "      <th>70</th>\n",
              "      <td>2021-10-01</td>\n",
              "      <td>-0.070193</td>\n",
              "      <td>9.713663</td>\n",
              "      <td>18.890062</td>\n",
              "      <td>-0.070203</td>\n",
              "      <td>-0.070184</td>\n",
              "      <td>14.052142</td>\n",
              "      <td>14.052142</td>\n",
              "      <td>14.052142</td>\n",
              "      <td>7.441012</td>\n",
              "      <td>7.441012</td>\n",
              "      <td>7.441012</td>\n",
              "      <td>6.611130</td>\n",
              "      <td>6.611130</td>\n",
              "      <td>6.611130</td>\n",
              "      <td>0.0</td>\n",
              "      <td>0.0</td>\n",
              "      <td>0.0</td>\n",
              "      <td>13.981949</td>\n",
              "    </tr>\n",
              "    <tr>\n",
              "      <th>71</th>\n",
              "      <td>2021-10-02</td>\n",
              "      <td>-0.076018</td>\n",
              "      <td>1.894573</td>\n",
              "      <td>10.846789</td>\n",
              "      <td>-0.076029</td>\n",
              "      <td>-0.076009</td>\n",
              "      <td>6.510886</td>\n",
              "      <td>6.510886</td>\n",
              "      <td>6.510886</td>\n",
              "      <td>7.441012</td>\n",
              "      <td>7.441012</td>\n",
              "      <td>7.441012</td>\n",
              "      <td>-0.930126</td>\n",
              "      <td>-0.930126</td>\n",
              "      <td>-0.930126</td>\n",
              "      <td>0.0</td>\n",
              "      <td>0.0</td>\n",
              "      <td>0.0</td>\n",
              "      <td>6.434868</td>\n",
              "    </tr>\n",
              "    <tr>\n",
              "      <th>72</th>\n",
              "      <td>2021-10-03</td>\n",
              "      <td>-0.081843</td>\n",
              "      <td>1.778106</td>\n",
              "      <td>11.075502</td>\n",
              "      <td>-0.081855</td>\n",
              "      <td>-0.081833</td>\n",
              "      <td>6.510885</td>\n",
              "      <td>6.510885</td>\n",
              "      <td>6.510885</td>\n",
              "      <td>7.441012</td>\n",
              "      <td>7.441012</td>\n",
              "      <td>7.441012</td>\n",
              "      <td>-0.930127</td>\n",
              "      <td>-0.930127</td>\n",
              "      <td>-0.930127</td>\n",
              "      <td>0.0</td>\n",
              "      <td>0.0</td>\n",
              "      <td>0.0</td>\n",
              "      <td>6.429042</td>\n",
              "    </tr>\n",
              "    <tr>\n",
              "      <th>73</th>\n",
              "      <td>2021-10-04</td>\n",
              "      <td>-0.087668</td>\n",
              "      <td>1.563953</td>\n",
              "      <td>10.797207</td>\n",
              "      <td>-0.087680</td>\n",
              "      <td>-0.087657</td>\n",
              "      <td>6.343571</td>\n",
              "      <td>6.343571</td>\n",
              "      <td>6.343571</td>\n",
              "      <td>7.441012</td>\n",
              "      <td>7.441012</td>\n",
              "      <td>7.441012</td>\n",
              "      <td>-1.097441</td>\n",
              "      <td>-1.097441</td>\n",
              "      <td>-1.097441</td>\n",
              "      <td>0.0</td>\n",
              "      <td>0.0</td>\n",
              "      <td>0.0</td>\n",
              "      <td>6.255903</td>\n",
              "    </tr>\n",
              "  </tbody>\n",
              "</table>\n",
              "</div>"
            ],
            "text/plain": [
              "           ds     trend  ...  multiplicative_terms_upper       yhat\n",
              "69 2021-09-30 -0.064368  ...                         0.0   5.400171\n",
              "70 2021-10-01 -0.070193  ...                         0.0  13.981949\n",
              "71 2021-10-02 -0.076018  ...                         0.0   6.434868\n",
              "72 2021-10-03 -0.081843  ...                         0.0   6.429042\n",
              "73 2021-10-04 -0.087668  ...                         0.0   6.255903\n",
              "\n",
              "[5 rows x 19 columns]"
            ]
          },
          "metadata": {},
          "execution_count": 153
        }
      ]
    },
    {
      "cell_type": "markdown",
      "metadata": {
        "id": "VY7jOLZw1zh7"
      },
      "source": [
        "Si queremos saber todos los nombres que estan guardados en el pronóstico. y hat, y para el intervalo de confianza yhat lower y yhatupper"
      ]
    },
    {
      "cell_type": "code",
      "metadata": {
        "id": "wH5OGNM31FNL",
        "colab": {
          "base_uri": "https://localhost:8080/"
        },
        "outputId": "a79b0285-322e-4900-fb14-00dd7cf8d585"
      },
      "source": [
        "forecast.columns"
      ],
      "execution_count": 154,
      "outputs": [
        {
          "output_type": "execute_result",
          "data": {
            "text/plain": [
              "Index(['ds', 'trend', 'yhat_lower', 'yhat_upper', 'trend_lower', 'trend_upper',\n",
              "       'additive_terms', 'additive_terms_lower', 'additive_terms_upper',\n",
              "       'daily', 'daily_lower', 'daily_upper', 'weekly', 'weekly_lower',\n",
              "       'weekly_upper', 'multiplicative_terms', 'multiplicative_terms_lower',\n",
              "       'multiplicative_terms_upper', 'yhat'],\n",
              "      dtype='object')"
            ]
          },
          "metadata": {},
          "execution_count": 154
        }
      ]
    },
    {
      "cell_type": "code",
      "metadata": {
        "id": "N0QV8H_Z1FNN",
        "colab": {
          "base_uri": "https://localhost:8080/",
          "height": 421
        },
        "outputId": "31d9f1ae-b806-481d-ad07-970bce09527c"
      },
      "source": [
        "forecast[['ds', 'yhat', 'yhat_lower', 'yhat_upper']].tail(12)"
      ],
      "execution_count": 155,
      "outputs": [
        {
          "output_type": "execute_result",
          "data": {
            "text/html": [
              "<div>\n",
              "<style scoped>\n",
              "    .dataframe tbody tr th:only-of-type {\n",
              "        vertical-align: middle;\n",
              "    }\n",
              "\n",
              "    .dataframe tbody tr th {\n",
              "        vertical-align: top;\n",
              "    }\n",
              "\n",
              "    .dataframe thead th {\n",
              "        text-align: right;\n",
              "    }\n",
              "</style>\n",
              "<table border=\"1\" class=\"dataframe\">\n",
              "  <thead>\n",
              "    <tr style=\"text-align: right;\">\n",
              "      <th></th>\n",
              "      <th>ds</th>\n",
              "      <th>yhat</th>\n",
              "      <th>yhat_lower</th>\n",
              "      <th>yhat_upper</th>\n",
              "    </tr>\n",
              "  </thead>\n",
              "  <tbody>\n",
              "    <tr>\n",
              "      <th>62</th>\n",
              "      <td>2021-09-23</td>\n",
              "      <td>5.440946</td>\n",
              "      <td>1.042258</td>\n",
              "      <td>10.254684</td>\n",
              "    </tr>\n",
              "    <tr>\n",
              "      <th>63</th>\n",
              "      <td>2021-09-24</td>\n",
              "      <td>14.022723</td>\n",
              "      <td>9.323987</td>\n",
              "      <td>19.041075</td>\n",
              "    </tr>\n",
              "    <tr>\n",
              "      <th>64</th>\n",
              "      <td>2021-09-25</td>\n",
              "      <td>6.475643</td>\n",
              "      <td>1.635479</td>\n",
              "      <td>11.405247</td>\n",
              "    </tr>\n",
              "    <tr>\n",
              "      <th>65</th>\n",
              "      <td>2021-09-26</td>\n",
              "      <td>6.469817</td>\n",
              "      <td>1.694070</td>\n",
              "      <td>11.242849</td>\n",
              "    </tr>\n",
              "    <tr>\n",
              "      <th>66</th>\n",
              "      <td>2021-09-27</td>\n",
              "      <td>6.296678</td>\n",
              "      <td>1.330370</td>\n",
              "      <td>11.023853</td>\n",
              "    </tr>\n",
              "    <tr>\n",
              "      <th>67</th>\n",
              "      <td>2021-09-28</td>\n",
              "      <td>7.195228</td>\n",
              "      <td>2.607520</td>\n",
              "      <td>11.380527</td>\n",
              "    </tr>\n",
              "    <tr>\n",
              "      <th>68</th>\n",
              "      <td>2021-09-29</td>\n",
              "      <td>5.898571</td>\n",
              "      <td>1.243334</td>\n",
              "      <td>10.687175</td>\n",
              "    </tr>\n",
              "    <tr>\n",
              "      <th>69</th>\n",
              "      <td>2021-09-30</td>\n",
              "      <td>5.400171</td>\n",
              "      <td>0.692780</td>\n",
              "      <td>10.154456</td>\n",
              "    </tr>\n",
              "    <tr>\n",
              "      <th>70</th>\n",
              "      <td>2021-10-01</td>\n",
              "      <td>13.981949</td>\n",
              "      <td>9.713663</td>\n",
              "      <td>18.890062</td>\n",
              "    </tr>\n",
              "    <tr>\n",
              "      <th>71</th>\n",
              "      <td>2021-10-02</td>\n",
              "      <td>6.434868</td>\n",
              "      <td>1.894573</td>\n",
              "      <td>10.846789</td>\n",
              "    </tr>\n",
              "    <tr>\n",
              "      <th>72</th>\n",
              "      <td>2021-10-03</td>\n",
              "      <td>6.429042</td>\n",
              "      <td>1.778106</td>\n",
              "      <td>11.075502</td>\n",
              "    </tr>\n",
              "    <tr>\n",
              "      <th>73</th>\n",
              "      <td>2021-10-04</td>\n",
              "      <td>6.255903</td>\n",
              "      <td>1.563953</td>\n",
              "      <td>10.797207</td>\n",
              "    </tr>\n",
              "  </tbody>\n",
              "</table>\n",
              "</div>"
            ],
            "text/plain": [
              "           ds       yhat  yhat_lower  yhat_upper\n",
              "62 2021-09-23   5.440946    1.042258   10.254684\n",
              "63 2021-09-24  14.022723    9.323987   19.041075\n",
              "64 2021-09-25   6.475643    1.635479   11.405247\n",
              "65 2021-09-26   6.469817    1.694070   11.242849\n",
              "66 2021-09-27   6.296678    1.330370   11.023853\n",
              "67 2021-09-28   7.195228    2.607520   11.380527\n",
              "68 2021-09-29   5.898571    1.243334   10.687175\n",
              "69 2021-09-30   5.400171    0.692780   10.154456\n",
              "70 2021-10-01  13.981949    9.713663   18.890062\n",
              "71 2021-10-02   6.434868    1.894573   10.846789\n",
              "72 2021-10-03   6.429042    1.778106   11.075502\n",
              "73 2021-10-04   6.255903    1.563953   10.797207"
            ]
          },
          "metadata": {},
          "execution_count": 155
        }
      ]
    },
    {
      "cell_type": "markdown",
      "metadata": {
        "id": "fK2eLQ0i1FNQ"
      },
      "source": [
        "### Graficando los pronósticos\n"
      ]
    },
    {
      "cell_type": "code",
      "metadata": {
        "id": "ywuU_kom1FNQ",
        "colab": {
          "base_uri": "https://localhost:8080/",
          "height": 441
        },
        "outputId": "59eec876-579e-4368-8847-7288500fc641"
      },
      "source": [
        "m.plot(forecast);"
      ],
      "execution_count": 156,
      "outputs": [
        {
          "output_type": "display_data",
          "data": {
            "image/png": "[encoded data removed]",
            "text/plain": [
              "<Figure size 720x432 with 1 Axes>"
            ]
          },
          "metadata": {}
        }
      ]
    },
    {
      "cell_type": "markdown",
      "metadata": {
        "id": "fo3NfK972EI6"
      },
      "source": [
        "Los datos son los puntos negros, los del final son el futuro. La linea azul son el pronóstico, para ampliarlo ver la siguiente instrucción."
      ]
    },
    {
      "cell_type": "code",
      "metadata": {
        "id": "xCBVhXBS6iCH"
      },
      "source": [
        "pd.plotting.register_matplotlib_converters()"
      ],
      "execution_count": 157,
      "outputs": []
    },
    {
      "cell_type": "code",
      "metadata": {
        "id": "Eh-uZ1wB1FNT",
        "colab": {
          "base_uri": "https://localhost:8080/",
          "height": 458
        },
        "outputId": "24db9afc-1b50-491d-b0b0-ea145c89ca26"
      },
      "source": [
        "import matplotlib.pyplot as plt\n",
        "m.plot(forecast)\n",
        "plt.xlim('2021-08-23','2021-10-04')"
      ],
      "execution_count": 158,
      "outputs": [
        {
          "output_type": "execute_result",
          "data": {
            "text/plain": [
              "(738025.0, 738067.0)"
            ]
          },
          "metadata": {},
          "execution_count": 158
        },
        {
          "output_type": "display_data",
          "data": {
            "image/png": "[encoded data removed]",
            "text/plain": [
              "<Figure size 720x432 with 1 Axes>"
            ]
          },
          "metadata": {}
        }
      ]
    },
    {
      "cell_type": "markdown",
      "metadata": {
        "id": "SV10n8Kd3Ifp"
      },
      "source": [
        "Para graficar solamente la predicción:"
      ]
    },
    {
      "cell_type": "code",
      "metadata": {
        "id": "8RxOsFGY1FNV",
        "colab": {
          "base_uri": "https://localhost:8080/",
          "height": 302
        },
        "outputId": "545ffd65-535d-4508-9201-38c124f2d623"
      },
      "source": [
        "forecast.plot(x='ds',y='yhat')"
      ],
      "execution_count": 142,
      "outputs": [
        {
          "output_type": "execute_result",
          "data": {
            "text/plain": [
              "<matplotlib.axes._subplots.AxesSubplot at 0x7fbdfd9b5b50>"
            ]
          },
          "metadata": {},
          "execution_count": 142
        },
        {
          "output_type": "display_data",
          "data": {
            "image/png": "[encoded data removed]",
            "text/plain": [
              "<Figure size 432x288 with 1 Axes>"
            ]
          },
          "metadata": {
            "needs_background": "light"
          }
        }
      ]
    },
    {
      "cell_type": "markdown",
      "metadata": {
        "id": "TJ4vv5lC3bEU"
      },
      "source": [
        "Se dibuja el componente de tendencia, y componenete de tendencia anual hay un pico anual en Diciembre donde la gente tiende a comprar más alochol"
      ]
    },
    {
      "cell_type": "code",
      "metadata": {
        "id": "6ZSzrAyt1FNX",
        "colab": {
          "base_uri": "https://localhost:8080/",
          "height": 657
        },
        "outputId": "c86bbb50-6181-4437-db2e-8dd0a44a722f"
      },
      "source": [
        "m.plot_components(forecast);\n"
      ],
      "execution_count": 159,
      "outputs": [
        {
          "output_type": "display_data",
          "data": {
            "image/png": "[encoded data removed]",
            "text/plain": [
              "<Figure size 648x648 with 3 Axes>"
            ]
          },
          "metadata": {}
        }
      ]
    },
    {
      "cell_type": "markdown",
      "metadata": {
        "id": "eODbyEOU4j4P"
      },
      "source": [
        "# Para evaluar la habilidad de pronostico en una muestra de entrenamiento:\n"
      ]
    },
    {
      "cell_type": "code",
      "metadata": {
        "id": "X1S9CDLz4nPd",
        "outputId": "66cc85ae-5bf3-4afe-cd7f-69d29a407bd3",
        "colab": {
          "base_uri": "https://localhost:8080/"
        }
      },
      "source": [
        "len(df) # Actualmente tenemos 50 datos"
      ],
      "execution_count": 162,
      "outputs": [
        {
          "output_type": "execute_result",
          "data": {
            "text/plain": [
              "50"
            ]
          },
          "metadata": {},
          "execution_count": 162
        }
      ]
    },
    {
      "cell_type": "code",
      "metadata": {
        "id": "lCrrj4_m4vEJ"
      },
      "source": [
        "train = df.iloc[:40]\n",
        "test = df.iloc[40:]"
      ],
      "execution_count": 163,
      "outputs": []
    },
    {
      "cell_type": "code",
      "metadata": {
        "id": "rEMZCTWh4_Zs",
        "outputId": "fe95be3c-5742-4af1-b071-f51b92e706da",
        "colab": {
          "base_uri": "https://localhost:8080/"
        }
      },
      "source": [
        "m1 =Prophet(daily_seasonality=True)\n",
        "m1.fit(train)\n",
        "future = m1.make_future_dataframe(periods=10)\n",
        "forecast = m1.predict(future)"
      ],
      "execution_count": 165,
      "outputs": [
        {
          "output_type": "stream",
          "name": "stderr",
          "text": [
            "INFO:fbprophet:Disabling yearly seasonality. Run prophet with yearly_seasonality=True to override this.\n"
          ]
        }
      ]
    },
    {
      "cell_type": "code",
      "metadata": {
        "id": "OnUvHYRe5jxw",
        "outputId": "080ca44a-f6c8-4d03-cc94-bf57245712fb",
        "colab": {
          "base_uri": "https://localhost:8080/",
          "height": 309
        }
      },
      "source": [
        "forecast.tail()"
      ],
      "execution_count": 166,
      "outputs": [
        {
          "output_type": "execute_result",
          "data": {
            "text/html": [
              "<div>\n",
              "<style scoped>\n",
              "    .dataframe tbody tr th:only-of-type {\n",
              "        vertical-align: middle;\n",
              "    }\n",
              "\n",
              "    .dataframe tbody tr th {\n",
              "        vertical-align: top;\n",
              "    }\n",
              "\n",
              "    .dataframe thead th {\n",
              "        text-align: right;\n",
              "    }\n",
              "</style>\n",
              "<table border=\"1\" class=\"dataframe\">\n",
              "  <thead>\n",
              "    <tr style=\"text-align: right;\">\n",
              "      <th></th>\n",
              "      <th>ds</th>\n",
              "      <th>trend</th>\n",
              "      <th>yhat_lower</th>\n",
              "      <th>yhat_upper</th>\n",
              "      <th>trend_lower</th>\n",
              "      <th>trend_upper</th>\n",
              "      <th>additive_terms</th>\n",
              "      <th>additive_terms_lower</th>\n",
              "      <th>additive_terms_upper</th>\n",
              "      <th>daily</th>\n",
              "      <th>daily_lower</th>\n",
              "      <th>daily_upper</th>\n",
              "      <th>weekly</th>\n",
              "      <th>weekly_lower</th>\n",
              "      <th>weekly_upper</th>\n",
              "      <th>multiplicative_terms</th>\n",
              "      <th>multiplicative_terms_lower</th>\n",
              "      <th>multiplicative_terms_upper</th>\n",
              "      <th>yhat</th>\n",
              "    </tr>\n",
              "  </thead>\n",
              "  <tbody>\n",
              "    <tr>\n",
              "      <th>45</th>\n",
              "      <td>2021-09-02</td>\n",
              "      <td>-2.101178</td>\n",
              "      <td>-1.692999</td>\n",
              "      <td>8.350018</td>\n",
              "      <td>-2.101178</td>\n",
              "      <td>-2.101178</td>\n",
              "      <td>5.833786</td>\n",
              "      <td>5.833786</td>\n",
              "      <td>5.833786</td>\n",
              "      <td>8.1091</td>\n",
              "      <td>8.1091</td>\n",
              "      <td>8.1091</td>\n",
              "      <td>-2.275314</td>\n",
              "      <td>-2.275314</td>\n",
              "      <td>-2.275314</td>\n",
              "      <td>0.0</td>\n",
              "      <td>0.0</td>\n",
              "      <td>0.0</td>\n",
              "      <td>3.732608</td>\n",
              "    </tr>\n",
              "    <tr>\n",
              "      <th>46</th>\n",
              "      <td>2021-09-03</td>\n",
              "      <td>-2.145382</td>\n",
              "      <td>8.022161</td>\n",
              "      <td>17.740003</td>\n",
              "      <td>-2.145382</td>\n",
              "      <td>-2.145381</td>\n",
              "      <td>15.252892</td>\n",
              "      <td>15.252892</td>\n",
              "      <td>15.252892</td>\n",
              "      <td>8.1091</td>\n",
              "      <td>8.1091</td>\n",
              "      <td>8.1091</td>\n",
              "      <td>7.143792</td>\n",
              "      <td>7.143792</td>\n",
              "      <td>7.143792</td>\n",
              "      <td>0.0</td>\n",
              "      <td>0.0</td>\n",
              "      <td>0.0</td>\n",
              "      <td>13.107510</td>\n",
              "    </tr>\n",
              "    <tr>\n",
              "      <th>47</th>\n",
              "      <td>2021-09-04</td>\n",
              "      <td>-2.189585</td>\n",
              "      <td>-0.193126</td>\n",
              "      <td>9.838969</td>\n",
              "      <td>-2.189585</td>\n",
              "      <td>-2.189585</td>\n",
              "      <td>7.095463</td>\n",
              "      <td>7.095463</td>\n",
              "      <td>7.095463</td>\n",
              "      <td>8.1091</td>\n",
              "      <td>8.1091</td>\n",
              "      <td>8.1091</td>\n",
              "      <td>-1.013637</td>\n",
              "      <td>-1.013637</td>\n",
              "      <td>-1.013637</td>\n",
              "      <td>0.0</td>\n",
              "      <td>0.0</td>\n",
              "      <td>0.0</td>\n",
              "      <td>4.905878</td>\n",
              "    </tr>\n",
              "    <tr>\n",
              "      <th>48</th>\n",
              "      <td>2021-09-05</td>\n",
              "      <td>-2.233788</td>\n",
              "      <td>-0.104640</td>\n",
              "      <td>9.714621</td>\n",
              "      <td>-2.233788</td>\n",
              "      <td>-2.233788</td>\n",
              "      <td>7.095462</td>\n",
              "      <td>7.095462</td>\n",
              "      <td>7.095462</td>\n",
              "      <td>8.1091</td>\n",
              "      <td>8.1091</td>\n",
              "      <td>8.1091</td>\n",
              "      <td>-1.013638</td>\n",
              "      <td>-1.013638</td>\n",
              "      <td>-1.013638</td>\n",
              "      <td>0.0</td>\n",
              "      <td>0.0</td>\n",
              "      <td>0.0</td>\n",
              "      <td>4.861674</td>\n",
              "    </tr>\n",
              "    <tr>\n",
              "      <th>49</th>\n",
              "      <td>2021-09-06</td>\n",
              "      <td>-2.277992</td>\n",
              "      <td>-0.150465</td>\n",
              "      <td>9.736667</td>\n",
              "      <td>-2.277992</td>\n",
              "      <td>-2.277992</td>\n",
              "      <td>7.201162</td>\n",
              "      <td>7.201162</td>\n",
              "      <td>7.201162</td>\n",
              "      <td>8.1091</td>\n",
              "      <td>8.1091</td>\n",
              "      <td>8.1091</td>\n",
              "      <td>-0.907938</td>\n",
              "      <td>-0.907938</td>\n",
              "      <td>-0.907938</td>\n",
              "      <td>0.0</td>\n",
              "      <td>0.0</td>\n",
              "      <td>0.0</td>\n",
              "      <td>4.923170</td>\n",
              "    </tr>\n",
              "  </tbody>\n",
              "</table>\n",
              "</div>"
            ],
            "text/plain": [
              "           ds     trend  ...  multiplicative_terms_upper       yhat\n",
              "45 2021-09-02 -2.101178  ...                         0.0   3.732608\n",
              "46 2021-09-03 -2.145382  ...                         0.0  13.107510\n",
              "47 2021-09-04 -2.189585  ...                         0.0   4.905878\n",
              "48 2021-09-05 -2.233788  ...                         0.0   4.861674\n",
              "49 2021-09-06 -2.277992  ...                         0.0   4.923170\n",
              "\n",
              "[5 rows x 19 columns]"
            ]
          },
          "metadata": {},
          "execution_count": 166
        }
      ]
    },
    {
      "cell_type": "code",
      "metadata": {
        "id": "XEoK60P75qP1",
        "outputId": "ba4d6b56-b2a5-432e-c9ac-5486ae8ffce9",
        "colab": {
          "base_uri": "https://localhost:8080/",
          "height": 304
        }
      },
      "source": [
        "ax = forecast.plot(x='ds', y = 'yhat', label = 'Predictions', legend= True)\n",
        "test.plot(x='ds', y = 'y', label = 'True Test Data', legend = True, ax=ax, xlim =('2021-08-28', '2021-09-7'))"
      ],
      "execution_count": 174,
      "outputs": [
        {
          "output_type": "execute_result",
          "data": {
            "text/plain": [
              "<matplotlib.axes._subplots.AxesSubplot at 0x7fbdf90c0e10>"
            ]
          },
          "metadata": {},
          "execution_count": 174
        },
        {
          "output_type": "display_data",
          "data": {
            "image/png": "[encoded data removed]",
            "text/plain": [
              "<Figure size 432x288 with 1 Axes>"
            ]
          },
          "metadata": {
            "needs_background": "light"
          }
        }
      ]
    },
    {
      "cell_type": "code",
      "metadata": {
        "id": "wwonaYcn7YKp"
      },
      "source": [
        "from statsmodels.tools.eval_measures import rmse"
      ],
      "execution_count": 175,
      "outputs": []
    },
    {
      "cell_type": "code",
      "metadata": {
        "id": "mxTUaGlC7gKc"
      },
      "source": [
        "predictions = forecast.iloc[-10:]['yhat']"
      ],
      "execution_count": 180,
      "outputs": []
    },
    {
      "cell_type": "code",
      "metadata": {
        "id": "4bwzHn0Y72ys",
        "outputId": "2888e811-c7f9-4b2b-9967-f04fe03a32ff",
        "colab": {
          "base_uri": "https://localhost:8080/"
        }
      },
      "source": [
        "predictions"
      ],
      "execution_count": 182,
      "outputs": [
        {
          "output_type": "execute_result",
          "data": {
            "text/plain": [
              "40     5.215302\n",
              "41     5.171097\n",
              "42     5.232594\n",
              "43     5.482591\n",
              "44     4.732598\n",
              "45     3.732608\n",
              "46    13.107510\n",
              "47     4.905878\n",
              "48     4.861674\n",
              "49     4.923170\n",
              "Name: yhat, dtype: float64"
            ]
          },
          "metadata": {},
          "execution_count": 182
        }
      ]
    },
    {
      "cell_type": "code",
      "metadata": {
        "id": "P3rToWJ19ii8",
        "outputId": "aa3d5001-b19b-4343-cbee-9c749d50145f",
        "colab": {
          "base_uri": "https://localhost:8080/"
        }
      },
      "source": [
        "test['y']"
      ],
      "execution_count": 181,
      "outputs": [
        {
          "output_type": "execute_result",
          "data": {
            "text/plain": [
              "40     4\n",
              "41     7\n",
              "42     6\n",
              "43     7\n",
              "44    13\n",
              "45     9\n",
              "46    13\n",
              "47     7\n",
              "48     9\n",
              "49    14\n",
              "Name: y, dtype: int64"
            ]
          },
          "metadata": {},
          "execution_count": 181
        }
      ]
    },
    {
      "cell_type": "code",
      "metadata": {
        "id": "putz0Xoc-SU6",
        "outputId": "27ae8a78-3b5c-4e81-bab0-9569252e58bf",
        "colab": {
          "base_uri": "https://localhost:8080/"
        }
      },
      "source": [
        "rmse(predictions, test['y'])"
      ],
      "execution_count": 183,
      "outputs": [
        {
          "output_type": "execute_result",
          "data": {
            "text/plain": [
              "4.557632439105338"
            ]
          },
          "metadata": {},
          "execution_count": 183
        }
      ]
    },
    {
      "cell_type": "code",
      "metadata": {
        "id": "FkISnZio-glV",
        "outputId": "67c6bb4b-0eaf-4e0b-cf77-0ee2fda49ec6",
        "colab": {
          "base_uri": "https://localhost:8080/"
        }
      },
      "source": [
        "test.mean()"
      ],
      "execution_count": 184,
      "outputs": [
        {
          "output_type": "stream",
          "name": "stderr",
          "text": [
            "/usr/local/lib/python3.7/dist-packages/ipykernel_launcher.py:1: FutureWarning:\n",
            "\n",
            "DataFrame.mean and DataFrame.median with numeric_only=None will include datetime64 and datetime64tz columns in a future version.\n",
            "\n"
          ]
        },
        {
          "output_type": "execute_result",
          "data": {
            "text/plain": [
              "y               8.9\n",
              "suscriptores    4.0\n",
              "dummy           0.0\n",
              "dtype: float64"
            ]
          },
          "metadata": {},
          "execution_count": 184
        }
      ]
    },
    {
      "cell_type": "code",
      "metadata": {
        "id": "lbGEhYat-pmr"
      },
      "source": [
        "from fbprophet.diagnostics import cross_validation,performance_metrics\n",
        "from fbprophet.plot import plot_cross_validation_metric"
      ],
      "execution_count": 185,
      "outputs": []
    },
    {
      "cell_type": "code",
      "metadata": {
        "id": "0HDYO-ds_HaT"
      },
      "source": [
        "# INITIAL  Definir \n",
        "\n",
        "#PERIOD\n",
        "\n",
        "# "
      ],
      "execution_count": null,
      "outputs": []
    }
  ]
}